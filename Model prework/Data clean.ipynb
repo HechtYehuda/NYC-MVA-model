{
 "cells": [
  {
   "cell_type": "code",
   "execution_count": null,
   "metadata": {},
   "outputs": [],
   "source": [
    "import pandas as pd\n",
    "import numpy as np\n",
    "import threading\n",
    "import matplotlib.pyplot as plt\n",
    "%matplotlib inline\n",
    "import datetime as dt\n",
    "import requests\n",
    "import astral\n",
    "from astral.sun import sun\n",
    "from uszipcode import SearchEngine, Zipcode\n",
    "from sklearn.linear_model import LinearRegression"
   ]
  },
  {
   "cell_type": "markdown",
   "metadata": {},
   "source": [
    "Data from https://data.cityofnewyork.us/Public-Safety/Motor-Vehicle-Collisions-Crashes/h9gi-nx95\n",
    "<br/>Long term: Add weather data"
   ]
  },
  {
   "cell_type": "code",
   "execution_count": null,
   "metadata": {
    "scrolled": true
   },
   "outputs": [],
   "source": [
    "df = pd.read_csv(r'../data/Motor_Vehicle_Collisions_-_Crashes.csv')\n",
    "df.head()"
   ]
  },
  {
   "cell_type": "code",
   "execution_count": null,
   "metadata": {
    "scrolled": false
   },
   "outputs": [],
   "source": [
    "df.info()"
   ]
  },
  {
   "cell_type": "code",
   "execution_count": null,
   "metadata": {},
   "outputs": [],
   "source": [
    "df.describe(include='all')"
   ]
  },
  {
   "cell_type": "markdown",
   "metadata": {},
   "source": [
    "### Data cleaning"
   ]
  },
  {
   "cell_type": "markdown",
   "metadata": {},
   "source": [
    "##### Cleaning notes"
   ]
  },
  {
   "cell_type": "markdown",
   "metadata": {},
   "source": [
    "1. `ZIP` to `int`\n",
    "2. `CRASH DATE` and `CRASH TIME` to `datetime`\n",
    "3. Remove outlying latitude/longitude data\n",
    "4. Get categorical count totals\n",
    "5. Compare `NUMBER OF PERSONS INJURED` to other columns' totals\n",
    "6. Add day/night column\n",
    "7. Add season column\n",
    "8. Add rush hour column\n",
    "9. Clear up missing ZIP data"
   ]
  },
  {
   "cell_type": "markdown",
   "metadata": {},
   "source": [
    "##### Compare `NUMBER OF PERSONS INJURED`"
   ]
  },
  {
   "cell_type": "code",
   "execution_count": null,
   "metadata": {},
   "outputs": [],
   "source": [
    "injured_audit = df['NUMBER OF PEDESTRIANS INJURED'] + df['NUMBER OF CYCLIST INJURED'] + df['NUMBER OF MOTORIST INJURED'] == df['NUMBER OF PERSONS INJURED']\n",
    "injured_audit.value_counts()"
   ]
  },
  {
   "cell_type": "markdown",
   "metadata": {},
   "source": [
    "##### Remove outlying latitude/longitude data"
   ]
  },
  {
   "cell_type": "markdown",
   "metadata": {},
   "source": [
    "From the [New York Times](https://www.nytimes.com/2001/07/01/nyregion/fyi-027065.html#:~:text=Vincent%20area%20of%20the%20Bronx,degrees%2015%20minutes%20west%20longitude.):\n",
    "\n",
    "According to ''A Natural History of New York City'' by John Kieran (Houghton Mifflin, 1959), the easternmost point is in Glen Oaks, Queens, at about 73 degrees 42 minutes west longitude, and the extreme northern point is the bank of the Hudson in the Mount St. Vincent area of the Bronx, at about 40 degrees 55 minutes north latitude. The southernmost and westernmost points almost coincide in Tottenville, Staten Island, at 40 degrees 30 minutes north latitude and 74 degrees 15 minutes west longitude."
   ]
  },
  {
   "cell_type": "code",
   "execution_count": null,
   "metadata": {},
   "outputs": [],
   "source": [
    "df = df[df['LATITUDE'] >= 40]\n",
    "df = df[df['LATITUDE'] <= 41]"
   ]
  },
  {
   "cell_type": "code",
   "execution_count": null,
   "metadata": {},
   "outputs": [],
   "source": [
    "df = df[df['LONGITUDE'] <= -73.3]\n",
    "df = df[df['LONGITUDE'] >= -74.2]"
   ]
  },
  {
   "cell_type": "code",
   "execution_count": null,
   "metadata": {
    "scrolled": true
   },
   "outputs": [],
   "source": [
    "boroughs = tuple(df['BOROUGH'].dropna().unique())\n",
    "colors = ['r','g','b','c','y']\n",
    "\n",
    "for i, borough in enumerate(boroughs):\n",
    "    plot_borough = df[df['BOROUGH'] == borough]\n",
    "#     plt.subplot(111 + boroughs.index(borough)*10)    \n",
    "    _ = plt.plot(plot_borough['LONGITUDE'], plot_borough['LATITUDE'], colors[i]+'.', alpha=0.005)\n",
    "    _ = plt.xlim(-74.2,-73.8)\n",
    "    _ = plt.ylim(40.5,40.9)\n",
    "# plt.imshow(extent=[-74,-73,40,41])\n",
    "plt.show()"
   ]
  },
  {
   "cell_type": "markdown",
   "metadata": {},
   "source": [
    "##### Datetime conversion"
   ]
  },
  {
   "cell_type": "code",
   "execution_count": null,
   "metadata": {
    "scrolled": true
   },
   "outputs": [],
   "source": [
    "df['CRASH DATE'] = pd.to_datetime(df['CRASH DATE'])\n",
    "df['CRASH TIME'] = pd.to_datetime(df['CRASH TIME'])\n",
    "\n",
    "# df['CRASH TIME'] = (df['CRASH DATE'] + ' ' + df['CRASH TIME']).apply(lambda x: dt.datetime.strptime(x, '%m/%d/%Y %H:%M'))"
   ]
  },
  {
   "cell_type": "code",
   "execution_count": null,
   "metadata": {},
   "outputs": [],
   "source": [
    "df[['CRASH DATE','CRASH TIME']].info()"
   ]
  },
  {
   "cell_type": "markdown",
   "metadata": {},
   "source": [
    "##### ZIP replacement"
   ]
  },
  {
   "cell_type": "code",
   "execution_count": null,
   "metadata": {},
   "outputs": [],
   "source": [
    "np.sort(df['ZIP CODE'].astype('str').unique())[:10]"
   ]
  },
  {
   "cell_type": "code",
   "execution_count": null,
   "metadata": {},
   "outputs": [],
   "source": [
    "empty = np.sort(df['ZIP CODE'].astype('str').unique())[0]\n",
    "empty_cells = df['ZIP CODE'].isin([empty, np.nan])\n",
    "df['EMPTY'] = empty_cells"
   ]
  },
  {
   "cell_type": "code",
   "execution_count": null,
   "metadata": {
    "scrolled": true
   },
   "outputs": [],
   "source": [
    "len(empty_cells[empty_cells==True])"
   ]
  },
  {
   "cell_type": "code",
   "execution_count": null,
   "metadata": {
    "scrolled": false
   },
   "outputs": [],
   "source": [
    "# build zip code search function\n",
    "search = SearchEngine(simple_zipcode=True)\n",
    "def get_zipcode(lat,lng):\n",
    "    result = search.by_coordinates(lat = lat, lng = lng, returns = 1)\n",
    "    return int(result[0].zipcode)"
   ]
  },
  {
   "cell_type": "code",
   "execution_count": null,
   "metadata": {},
   "outputs": [],
   "source": [
    "for i,j in df.loc[df['EMPTY'] == True, ['LATITUDE', 'LONGITUDE']].drop_duplicates().values:\n",
    "    df.loc[(df['LATITUDE'] == i) & (df['LONGITUDE'] == j), 'ZIP CODE'] = get_zipcode(i,j)"
   ]
  },
  {
   "cell_type": "code",
   "execution_count": null,
   "metadata": {},
   "outputs": [],
   "source": [
    "empty = np.sort(df['ZIP CODE'].astype('str').unique())[0]\n",
    "empty_cells = df['ZIP CODE'].isin([empty, np.nan])\n",
    "len(empty_cells[empty_cells==True])"
   ]
  },
  {
   "cell_type": "markdown",
   "metadata": {},
   "source": [
    "##### Fill borough data"
   ]
  },
  {
   "cell_type": "code",
   "execution_count": null,
   "metadata": {},
   "outputs": [],
   "source": [
    "len(df[df['BOROUGH'].isnull()])"
   ]
  },
  {
   "cell_type": "code",
   "execution_count": null,
   "metadata": {},
   "outputs": [],
   "source": [
    "manhattan_zips = [\n",
    "    10026,10027,10030,10037,10039, # Harlem\n",
    "    10001,10011,10018,10019,10020,10036, # Chelsea/Clinton\n",
    "    10029,10035, #East Harlem\n",
    "    10010,10016, 10017, 10022, # Grammercy Park/Murray Hill\n",
    "    10012, 10013, 10014, # Greenwich Village/SoHo\n",
    "    10004, 10005, 10006, 10007, 10038, 10280, # Lower Manhattan\n",
    "    110002, 10003, 10009, # Lower East Side\n",
    "    10021, 10028, 10044, 10065, 10075, 10128, # Upper East Side\n",
    "    10023, 10024, 10025, # Upper West Side\n",
    "    10031, 10032, 10033, 10034, 10040 # Inwood/Washington Heights\n",
    "]\n",
    "\n",
    "brooklyn_zips = [\n",
    "    11212, 11213, 11216, 11233, 11238, # Central Brooklyn\n",
    "    11209, 11214, 11228, # Southwest Brooklyn\n",
    "    11204, 11218, 11219, 11230, # Borough Park\n",
    "    11234, 11236, 11239, # Canarsie/Flatlands\n",
    "    11223, 11224, 11229, 11235, # Southern Brooklyn\n",
    "    11201, 11205, 11215, 11217, 11231, # Northwest Brooklyn\n",
    "    11203, 11210, 11225, 11226, # Flatbush\n",
    "    11207, 11208, # East New York/New Lots\n",
    "    11211, 11222, # Greenpoint\n",
    "    11220, 11232, # Sunset Park\n",
    "    11206, 11221, 11237 # Bushwick/Williamsburg\n",
    "]\n",
    "\n",
    "queens_zips = [\n",
    "    11361, 11362, 11363, 11364, # Northeast Queens\n",
    "    11354, 11355, 11356, 11357, 11358, 11359, 11360, # North Queens\n",
    "    11365, 11366, 11367, # Central Queens\n",
    "    11412, 11423, 11432, 11433, 11434, 11435, 11436, # Jamaica\n",
    "    11101, 11102, 11103, 11104, 11105, 11106, # Northwest Queens\n",
    "    11374, 11375, 11379, 11385, # West Central Queens\n",
    "    11691, 11692, 11693, 11694, 11695, 11697, # Rockaways\n",
    "    11004, 11005, 11411, 11413, 11422, 11426, 11427, 11428, 11429, # Southeast Queens\n",
    "    11414, 11415, 11416, 11417, 11418, 11419, 11420, 11421, # Southwest Queens\n",
    "    11368, 11369, 11370, 11372, 11373, 11377, 11378 # West Queens\n",
    "]\n",
    "\n",
    "si_zips = [\n",
    "    10302, 10303, 10310, # Port Richmond\n",
    "    10306, 10307, 10308, 10309, 10312, # South Shore\n",
    "    10301, 10304, 10305, # Stapleton/St. George\n",
    "    10314 # Mid-Island\n",
    "]\n",
    "\n",
    "bronx_zips = [\n",
    "    10453, 10457, 10460, # Central Bronx\n",
    "    10458, 10467, 10468, # Bronx Park/Fordham\n",
    "    10451, 10452, 10456, # High Bridge/Morrisania\n",
    "    10454, 10455, 10459, 10474, # Hunts Point/Mott Haven\n",
    "    10463, 10471, # Kingsbridge/Riverdale\n",
    "    10466, 10469, 10470, 10475, # Northeast Bronx\n",
    "    10461, 10462,10464, 10465, 10472, 10473 # Southeast Bronx\n",
    "]"
   ]
  },
  {
   "cell_type": "code",
   "execution_count": null,
   "metadata": {},
   "outputs": [],
   "source": [
    "boroughs = ['MANHATTAN','BROOKLYN','QUEENS','STATEN ISLAND','BRONX']\n",
    "zips = [manhattan_zips, brooklyn_zips, queens_zips, si_zips, bronx_zips]\n",
    "\n",
    "for borough, zip_code in zip(boroughs, zips):\n",
    "    df.loc[df['ZIP CODE'].isin(zip_code), 'BOROUGH'] = borough"
   ]
  },
  {
   "cell_type": "code",
   "execution_count": null,
   "metadata": {},
   "outputs": [],
   "source": [
    "len(df[df['BOROUGH'].isnull()])"
   ]
  },
  {
   "cell_type": "markdown",
   "metadata": {},
   "source": [
    "##### Add columns"
   ]
  },
  {
   "cell_type": "code",
   "execution_count": null,
   "metadata": {},
   "outputs": [],
   "source": [
    "# add RUSH HOUR column for hours between 6-10 AM and 4-8 PM\n",
    "df['RUSH HOUR'] = 0\n",
    "\n",
    "morning_rush = (df['CRASH TIME'].dt.time > dt.time(5,0)) & (df['CRASH TIME'].dt.time < dt.time(10,0))\n",
    "afternoon_rush = (df['CRASH TIME'].dt.time > dt.time(16,0)) & (df['CRASH TIME'].dt.time < dt.time(20,0))\n",
    "\n",
    "df.loc[(morning_rush == True) | (afternoon_rush == True), 'RUSH HOUR'] = 1"
   ]
  },
  {
   "cell_type": "code",
   "execution_count": null,
   "metadata": {},
   "outputs": [],
   "source": [
    "# add SEASON column based on meteorological definition\n",
    "df.loc[df['CRASH DATE'].dt.month.isin([3,4,5]) == True, 'SEASON'] = 'spring'\n",
    "df.loc[df['CRASH DATE'].dt.month.isin([6,7,8]) == True, 'SEASON'] = 'summer'\n",
    "df.loc[df['CRASH DATE'].dt.month.isin([9,10,11]) == True, 'SEASON'] = 'fall'\n",
    "df.loc[df['CRASH DATE'].dt.month.isin([12,1,2]) == True, 'SEASON'] = 'winter'"
   ]
  },
  {
   "cell_type": "code",
   "execution_count": null,
   "metadata": {
    "scrolled": true
   },
   "outputs": [],
   "source": [
    "df[['CRASH DATE','RUSH HOUR','SEASON']].sample(5)"
   ]
  },
  {
   "cell_type": "code",
   "execution_count": null,
   "metadata": {},
   "outputs": [],
   "source": [
    "location = astral.LocationInfo(name='New York', region='New York', timezone='America/New_York', latitude=40.7, longitude=-74)\n",
    "\n",
    "def get_sunrise_sunset(sun_action, time_zone, crash_date):\n",
    "    time = sun(location.observer, tzinfo=time_zone, date=crash_date.date())[sun_action].time()\n",
    "    return time"
   ]
  },
  {
   "cell_type": "code",
   "execution_count": null,
   "metadata": {
    "scrolled": true
   },
   "outputs": [],
   "source": [
    "df['SUNRISE'] = df.apply(lambda x: get_sunrise_sunset(sun_action='sunrise',\\\n",
    "                                                      time_zone='America/New_York',\\\n",
    "                                                      crash_date=x['CRASH DATE']), axis=1)\n",
    "df['SUNSET'] = df.apply(lambda x: get_sunrise_sunset(sun_action='sunset',\\\n",
    "                                                     time_zone='America/New_York',\\\n",
    "                                                     crash_date=x['CRASH DATE']), axis=1)"
   ]
  },
  {
   "cell_type": "code",
   "execution_count": null,
   "metadata": {},
   "outputs": [],
   "source": [
    "df['DURING DAYTIME'] = 0\n",
    "after_sunrise = (df['CRASH TIME'].dt.time > df['SUNRISE']) & (df['CRASH TIME'].dt.time < df['SUNSET'])\n",
    "df.loc[after_sunrise == True, 'DURING DAYTIME'] = 1"
   ]
  },
  {
   "cell_type": "code",
   "execution_count": null,
   "metadata": {},
   "outputs": [],
   "source": [
    "df[['CRASH TIME','SUNRISE','SUNSET','DURING DAYTIME']].sample(5)"
   ]
  },
  {
   "cell_type": "code",
   "execution_count": null,
   "metadata": {},
   "outputs": [],
   "source": [
    "# add TOTAL PEDESTRIAN CASUALTIES target variable\n",
    "df['TOTAL PEDESTRIAN CASUALTIES'] = df['NUMBER OF PEDESTRIANS INJURED'] + df['NUMBER OF PEDESTRIANS KILLED'] + df['NUMBER OF CYCLIST INJURED'] + df['NUMBER OF CYCLIST KILLED']"
   ]
  },
  {
   "cell_type": "code",
   "execution_count": null,
   "metadata": {},
   "outputs": [],
   "source": [
    "df.info()"
   ]
  },
  {
   "cell_type": "code",
   "execution_count": null,
   "metadata": {},
   "outputs": [],
   "source": [
    "# add weekdays\n",
    "weekdays = ['SUNDAY','MONDAY','TUESDAY','WEDNESDAY','THURSDAY','FRIDAY','SATURDAY']\n",
    "df['WEEKDAY'] = df['CRASH DATE'].apply(lambda x: weekdays[x.weekday()])\n",
    "df['WEEKDAY'].sample(10)"
   ]
  },
  {
   "cell_type": "code",
   "execution_count": null,
   "metadata": {},
   "outputs": [],
   "source": [
    "# add weekend dummy\n",
    "df['WEEKEND'] = 0\n",
    "weekend = df['WEEKDAY'].isin(['SATURDAY','SUNDAY'])\n",
    "df.loc[weekend == True, 'WEEKEND'] = 1"
   ]
  },
  {
   "cell_type": "markdown",
   "metadata": {},
   "source": [
    "##### Add holiday distance data"
   ]
  },
  {
   "cell_type": "code",
   "execution_count": null,
   "metadata": {},
   "outputs": [],
   "source": [
    "# df = pd.read_csv(r'data/clean_df.csv.gz', index_col=0)\n",
    "# df['CRASH DATE'] = df['CRASH DATE'].astype('datetime64')\n",
    "# df['CRASH TIME'] = df['CRASH TIME'].astype('datetime64')\n",
    "# df.head()"
   ]
  },
  {
   "cell_type": "code",
   "execution_count": null,
   "metadata": {},
   "outputs": [],
   "source": [
    "df.info()"
   ]
  },
  {
   "cell_type": "code",
   "execution_count": null,
   "metadata": {
    "scrolled": false
   },
   "outputs": [],
   "source": [
    "christmases = df['CRASH DATE'].apply(lambda x: dt.datetime(x.year,12,25))\n",
    "new_years = df['CRASH DATE'].apply(lambda x: dt.datetime(x.year,1,1))\n",
    "independence_days = df['CRASH DATE'].apply(lambda x: dt.datetime(x.year,7,4))\n",
    "christmases.sample(5)"
   ]
  },
  {
   "cell_type": "code",
   "execution_count": null,
   "metadata": {},
   "outputs": [],
   "source": [
    "df['DAYS FROM NEW YEARS'] = df['CRASH DATE'] - new_years\n",
    "df['DAYS FROM CHRISTMAS'] = df['CRASH DATE'] - christmases\n",
    "df['DAYS FROM JULY 4'] = df['CRASH DATE'] - independence_days"
   ]
  },
  {
   "cell_type": "code",
   "execution_count": null,
   "metadata": {
    "scrolled": false
   },
   "outputs": [],
   "source": [
    "df.sample(5)"
   ]
  },
  {
   "cell_type": "markdown",
   "metadata": {},
   "source": [
    "### Factor clean-up"
   ]
  },
  {
   "cell_type": "code",
   "execution_count": null,
   "metadata": {},
   "outputs": [],
   "source": [
    "with pd.option_context('display.max_rows', None):\n",
    "    print(df['CONTRIBUTING FACTOR VEHICLE 1'].value_counts().sort_values(ascending=False))"
   ]
  },
  {
   "cell_type": "code",
   "execution_count": null,
   "metadata": {},
   "outputs": [],
   "source": [
    "# Remove all factors that cannot be prevented by a cop\n",
    "preventables = [\n",
    "    'Unspecified',\n",
    "    'Driver Inattention/Distraction',\n",
    "    'Failure to Yield Right-of-Way',\n",
    "    'Following Too Closely',\n",
    "    'Backing Unsafely',\n",
    "    'Other Vehicular',\n",
    "    'Passing or Lane Usage Improper',\n",
    "    'Turning Improperly',\n",
    "    'Passing Too Closely',\n",
    "    'Unsafe Lane Changing',\n",
    "    'Traffic Control Disregarded',\n",
    "    'Driver Inexperience',\n",
    "    'Alcohol Involvement',\n",
    "    'Unsafe Speed',\n",
    "    'Reaction to Uninvolved Vehicle',\n",
    "    'Prescription Medication',\n",
    "    'Outside Car Distraction',\n",
    "    'Oversized Vehicle',\n",
    "    'View Obstructed/Limited',\n",
    "    'Passenger Distraction',\n",
    "    'Aggressive Driving/Road Rage',\n",
    "    'Pedestrian/Bicyclist/Other Pedestrian Error/Confusion',\n",
    "    'Failure to Keep Right',\n",
    "    'Other Electronic Device',\n",
    "    'Reaction to Other Uninvolved Vehicle',\n",
    "    'Animals Action',\n",
    "    'Lane Marking Improper/Inadequate',\n",
    "    'Traffic Control Device Improper/Non-Working',\n",
    "    'Drugs (illegal)',\n",
    "    'Drugs (Illegal)',\n",
    "    'Cell Phone (hand-Held)',\n",
    "    'Cell Phone (hands-free)',\n",
    "    'Other Lighting Defects',\n",
    "    'Using On Board Navigation Device',\n",
    "    'Headlights Defective',\n",
    "    'Eating or Drinking',\n",
    "    'Tinted Windows',\n",
    "    'Cell Phone (hand-held)',\n",
    "    'Windshield Inadequate',\n",
    "    'Texting',\n",
    "    'Listening/Using Headphones'\n",
    "]\n",
    "\n",
    "df = df[df['CONTRIBUTING FACTOR VEHICLE 1'].isin(preventables)]\n",
    "df.shape"
   ]
  },
  {
   "cell_type": "markdown",
   "metadata": {},
   "source": [
    "### Street name clean"
   ]
  },
  {
   "cell_type": "code",
   "execution_count": null,
   "metadata": {},
   "outputs": [],
   "source": [
    "df = pd.read_csv(r'../data/clean_df.csv.gz')"
   ]
  },
  {
   "cell_type": "code",
   "execution_count": null,
   "metadata": {},
   "outputs": [],
   "source": [
    "alt_terms = ['STREET',\n",
    "             'AVENUE',\n",
    "             'BOULEVARD',\n",
    "             'ROAD',\n",
    "             'DRIVE',\n",
    "             'PARKWAY',\n",
    "             'EXPRESSWAY'\n",
    "            ]\n",
    "clean_terms = ['ST',\n",
    "               'AVE',\n",
    "               'BLVD',\n",
    "               'RD',\n",
    "               'DR',\n",
    "               'PKWY',\n",
    "               'EXPWY'\n",
    "              ]\n",
    "def alt_terms_clean(string):\n",
    "    for alt, clean in zip(alt_terms, clean_terms):\n",
    "        string = string.strip().upper().replace(alt, clean)\n",
    "    return string"
   ]
  },
  {
   "cell_type": "code",
   "execution_count": null,
   "metadata": {},
   "outputs": [],
   "source": [
    "df['ON STREET NAME'].fillna('', inplace=True)\n",
    "df['ON STREET NAME'] = df['ON STREET NAME'].map(alt_terms_clean)\n",
    "\n",
    "df['CROSS STREET NAME'].fillna('', inplace=True)\n",
    "df['CROSS STREET NAME'] = df['CROSS STREET NAME'].map(alt_terms_clean)"
   ]
  },
  {
   "cell_type": "code",
   "execution_count": null,
   "metadata": {},
   "outputs": [],
   "source": [
    "df.to_csv(r'../data/clean_df.csv.gz')"
   ]
  }
 ],
 "metadata": {
  "kernelspec": {
   "display_name": "Python 3",
   "language": "python",
   "name": "python3"
  },
  "language_info": {
   "codemirror_mode": {
    "name": "ipython",
    "version": 3
   },
   "file_extension": ".py",
   "mimetype": "text/x-python",
   "name": "python",
   "nbconvert_exporter": "python",
   "pygments_lexer": "ipython3",
   "version": "3.8.3"
  }
 },
 "nbformat": 4,
 "nbformat_minor": 4
}

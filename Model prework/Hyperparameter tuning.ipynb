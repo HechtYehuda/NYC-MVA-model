{
 "cells": [
  {
   "cell_type": "markdown",
   "metadata": {},
   "source": [
    "#### Notes\n",
    "F1 scoring chosen for hyperparameter tuning in order to minimize false positives as well as false negatives."
   ]
  },
  {
   "cell_type": "code",
   "execution_count": 1,
   "metadata": {},
   "outputs": [],
   "source": [
    "import pandas as pd\n",
    "import numpy as np\n",
    "import matplotlib.pyplot as plt\n",
    "import datetime as dt\n",
    "import scipy.stats as stats\n",
    "import scipy.sparse\n",
    "from skopt import BayesSearchCV\n",
    "from sklearn.model_selection import train_test_split\n",
    "from sklearn.preprocessing import MinMaxScaler\n",
    "from sklearn.kernel_approximation import RBFSampler\n",
    "from sklearn.linear_model import LogisticRegression\n",
    "from sklearn.ensemble import RandomForestClassifier\n",
    "from sklearn.cluster import KMeans\n",
    "from sklearn.metrics import f1_score, confusion_matrix, make_scorer\n",
    "import pickle"
   ]
  },
  {
   "cell_type": "markdown",
   "metadata": {},
   "source": [
    "### Random Forest hyperparameters"
   ]
  },
  {
   "cell_type": "code",
   "execution_count": 2,
   "metadata": {},
   "outputs": [],
   "source": [
    "rf_params = {\n",
    "    'criterion':['gini','entropy'],\n",
    "    'max_depth':[i for i in range(1,51)],\n",
    "    'min_samples_leaf':[i for i in range(1,11)],\n",
    "    'n_estimators':[i for i in range(1,101)],\n",
    "    'class_weight': ['balanced'],\n",
    "    'max_features':[None,1,2,3,4,5,6,7,8,9,10],\n",
    "    'min_impurity_decrease':[i for i in np.arange(0.0,0.35,0.05)],\n",
    "    'random_state': [42],\n",
    "    'n_jobs':[-1],\n",
    "    'verbose':[2]\n",
    "}"
   ]
  },
  {
   "cell_type": "markdown",
   "metadata": {},
   "source": [
    "### Import data"
   ]
  },
  {
   "cell_type": "code",
   "execution_count": 3,
   "metadata": {},
   "outputs": [
    {
     "name": "stdout",
     "output_type": "stream",
     "text": [
      "Importing data...\n",
      "Done.\n",
      "Engineering features...\n",
      "Done.\n"
     ]
    }
   ],
   "source": [
    "print('Importing data...')\n",
    "data_path = r'../data/clean_df.csv.gz'\n",
    "df = pd.read_csv(data_path)\n",
    "print('Done.')\n",
    "\n",
    "print('Engineering features...')\n",
    "df['CRASH DATE'] = pd.to_datetime(df['CRASH DATE'])\n",
    "df['CRASH TIME'] = pd.to_datetime(df['CRASH TIME'])\n",
    "\n",
    "df['CASUALTIES?'] = 0\n",
    "mask = df['TOTAL PEDESTRIAN CASUALTIES'] != 0\n",
    "df.loc[mask, 'CASUALTIES?'] = 1\n",
    "df.loc[df['TOTAL PEDESTRIAN CASUALTIES'] != 1, ['TOTAL PEDESTRIAN CASUALTIES','CASUALTIES?']].sample(5)\n",
    "print('Done.')"
   ]
  },
  {
   "cell_type": "markdown",
   "metadata": {},
   "source": [
    "### K-Means analysis"
   ]
  },
  {
   "cell_type": "code",
   "execution_count": 4,
   "metadata": {
    "scrolled": false
   },
   "outputs": [
    {
     "name": "stdout",
     "output_type": "stream",
     "text": [
      "Manhattan K-Means analysis\n",
      "# Clusters: 2\n",
      "    F1 score: 0.1541123002492303\n",
      "# Clusters: 3\n",
      "    F1 score: 0.1621875839828003\n",
      "# Clusters: 4\n",
      "    F1 score: 0.16244468182511826\n",
      "# Clusters: 5\n",
      "    F1 score: 0.15882567469000727\n",
      "# Clusters: 6\n",
      "    F1 score: 0.1605709471810278\n",
      "# Clusters: 7\n",
      "    F1 score: 0.16494845360824742\n",
      "# Clusters: 8\n",
      "    F1 score: 0.1634797405083484\n",
      "# Clusters: 9\n",
      "    F1 score: 0.15778344877870945\n",
      "# Clusters: 10\n",
      "    F1 score: 0.1639133137934097\n",
      "# Clusters: 11\n",
      "    F1 score: 0.16563576573755087\n",
      "# Clusters: 12\n",
      "    F1 score: 0.1668766552672855\n",
      "# Clusters: 13\n",
      "    F1 score: 0.16925662453668533\n",
      "# Clusters: 14\n",
      "    F1 score: 0.16725885298676524\n",
      "# Clusters: 15\n",
      "    F1 score: 0.1679213359162355\n",
      "# Clusters: 16\n",
      "    F1 score: 0.1643656761527116\n",
      "# Clusters: 17\n",
      "    F1 score: 0.16369999396608942\n",
      "# Clusters: 18\n",
      "    F1 score: 0.16507481174821528\n",
      "# Clusters: 19\n",
      "    F1 score: 0.1656102769209911\n",
      "# Clusters: 20\n",
      "    F1 score: 0.16798979671516698\n",
      "# Clusters: 21\n",
      "    F1 score: 0.16556759969433674\n",
      "# Clusters: 22\n",
      "    F1 score: 0.16583101739105519\n",
      "# Clusters: 23\n",
      "    F1 score: 0.17023968510578477\n",
      "# Clusters: 24\n",
      "    F1 score: 0.16897882016300045\n",
      "# Clusters: 25\n",
      "    F1 score: 0.17029484706530726\n",
      "# Clusters: 26\n",
      "    F1 score: 0.16997714888381085\n",
      "# Clusters: 27\n",
      "    F1 score: 0.1694777895963126\n",
      "# Clusters: 28\n",
      "    F1 score: 0.17010285288779262\n",
      "# Clusters: 29\n",
      "    F1 score: 0.17354768913377108\n",
      "# Clusters: 30\n",
      "    F1 score: 0.17271848681485574\n",
      "Brooklyn K-Means analysis\n",
      "# Clusters: 2\n",
      "    F1 score: 0.1482968570018101\n",
      "# Clusters: 3\n",
      "    F1 score: 0.16876932074525858\n",
      "# Clusters: 4\n",
      "    F1 score: 0.16232166683772964\n",
      "# Clusters: 5\n",
      "    F1 score: 0.16644237361298023\n",
      "# Clusters: 6\n",
      "    F1 score: 0.1723660719001891\n",
      "# Clusters: 7\n",
      "    F1 score: 0.17708693946317708\n",
      "# Clusters: 8\n",
      "    F1 score: 0.17674600078033553\n",
      "# Clusters: 9\n",
      "    F1 score: 0.17640901684453605\n",
      "# Clusters: 10\n",
      "    F1 score: 0.17712231893892008\n",
      "# Clusters: 11\n",
      "    F1 score: 0.1773670655961218\n",
      "# Clusters: 12\n",
      "    F1 score: 0.1800277064831023\n",
      "# Clusters: 13\n",
      "    F1 score: 0.17856939233953273\n",
      "# Clusters: 14\n",
      "    F1 score: 0.1790846473899514\n",
      "# Clusters: 15\n",
      "    F1 score: 0.1812919443739766\n",
      "# Clusters: 16\n",
      "    F1 score: 0.1827879271240934\n",
      "# Clusters: 17\n",
      "    F1 score: 0.1828342271368231\n",
      "# Clusters: 18\n",
      "    F1 score: 0.1829919650736148\n",
      "# Clusters: 19\n",
      "    F1 score: 0.18367902162225186\n",
      "# Clusters: 20\n",
      "    F1 score: 0.18367318571646998\n",
      "# Clusters: 21\n",
      "    F1 score: 0.1840088421410613\n",
      "# Clusters: 22\n",
      "    F1 score: 0.18391830662068032\n",
      "# Clusters: 23\n",
      "    F1 score: 0.1843363254899878\n",
      "# Clusters: 24\n",
      "    F1 score: 0.18380555520372882\n",
      "# Clusters: 25\n",
      "    F1 score: 0.1841284481607786\n",
      "# Clusters: 26\n",
      "    F1 score: 0.18512338187702265\n",
      "# Clusters: 27\n",
      "    F1 score: 0.18360324693441032\n",
      "# Clusters: 28\n",
      "    F1 score: 0.18411577634878604\n",
      "# Clusters: 29\n",
      "    F1 score: 0.18272684279816456\n",
      "# Clusters: 30\n",
      "    F1 score: 0.18631187938527277\n",
      "Staten Island K-Means analysis\n"
     ]
    },
    {
     "name": "stderr",
     "output_type": "stream",
     "text": [
      "<ipython-input-4-b06eb04ef342>:35: MatplotlibDeprecationWarning: Adding an axes using the same arguments as a previous axes currently reuses the earlier instance.  In a future version, a new instance will always be created and returned.  Meanwhile, this warning can be suppressed, and the future behavior ensured, by passing a unique label to each axes instance.\n",
      "  _ = plt.subplot(236)\n"
     ]
    },
    {
     "name": "stdout",
     "output_type": "stream",
     "text": [
      "# Clusters: 2\n",
      "    F1 score: 0.09454545454545454\n",
      "# Clusters: 3\n",
      "    F1 score: 0.09076814658210007\n",
      "# Clusters: 4\n",
      "    F1 score: 0.0894412038211176\n",
      "# Clusters: 5\n",
      "    F1 score: 0.0910766561856229\n",
      "# Clusters: 6\n",
      "    F1 score: 0.09948652118100129\n",
      "# Clusters: 7\n",
      "    F1 score: 0.09795918367346938\n",
      "# Clusters: 8\n",
      "    F1 score: 0.09749582637729551\n",
      "# Clusters: 9\n",
      "    F1 score: 0.09901234567901235\n",
      "# Clusters: 10\n",
      "    F1 score: 0.10998051526304396\n",
      "# Clusters: 11\n",
      "    F1 score: 0.10924229808492925\n",
      "# Clusters: 12\n",
      "    F1 score: 0.10841836734693877\n",
      "# Clusters: 13\n",
      "    F1 score: 0.10866324333278117\n",
      "# Clusters: 14\n",
      "    F1 score: 0.10948012232415902\n",
      "# Clusters: 15\n",
      "    F1 score: 0.11104179663131628\n",
      "# Clusters: 16\n",
      "    F1 score: 0.10952528699968973\n",
      "# Clusters: 17\n",
      "    F1 score: 0.10925338714326895\n",
      "# Clusters: 18\n",
      "    F1 score: 0.11007596388132435\n",
      "# Clusters: 19\n",
      "    F1 score: 0.10970724191063173\n",
      "# Clusters: 20\n",
      "    F1 score: 0.1089334548769371\n",
      "# Clusters: 21\n",
      "    F1 score: 0.10995692931340259\n",
      "# Clusters: 22\n",
      "    F1 score: 0.10390979028348615\n",
      "# Clusters: 23\n",
      "    F1 score: 0.10666335156638487\n",
      "# Clusters: 24\n",
      "    F1 score: 0.11050563933595235\n",
      "# Clusters: 25\n",
      "    F1 score: 0.10815786445748476\n",
      "# Clusters: 26\n",
      "    F1 score: 0.10823870500120802\n",
      "# Clusters: 27\n",
      "    F1 score: 0.10840895341802784\n",
      "# Clusters: 28\n",
      "    F1 score: 0.1100891060649612\n",
      "# Clusters: 29\n",
      "    F1 score: 0.10629492485297319\n",
      "# Clusters: 30\n",
      "    F1 score: 0.10473186119873817\n",
      "Queens K-Means analysis\n"
     ]
    },
    {
     "name": "stderr",
     "output_type": "stream",
     "text": [
      "<ipython-input-4-b06eb04ef342>:35: MatplotlibDeprecationWarning: Adding an axes using the same arguments as a previous axes currently reuses the earlier instance.  In a future version, a new instance will always be created and returned.  Meanwhile, this warning can be suppressed, and the future behavior ensured, by passing a unique label to each axes instance.\n",
      "  _ = plt.subplot(236)\n"
     ]
    },
    {
     "name": "stdout",
     "output_type": "stream",
     "text": [
      "# Clusters: 2\n",
      "    F1 score: 0.12733928740492947\n",
      "# Clusters: 3\n",
      "    F1 score: 0.12647743136342485\n",
      "# Clusters: 4\n",
      "    F1 score: 0.12415392625550245\n",
      "# Clusters: 5\n",
      "    F1 score: 0.126448258919373\n",
      "# Clusters: 6\n",
      "    F1 score: 0.12820512820512822\n",
      "# Clusters: 7\n",
      "    F1 score: 0.12856685438758406\n",
      "# Clusters: 8\n",
      "    F1 score: 0.12995651061652597\n",
      "# Clusters: 9\n",
      "    F1 score: 0.1283862454397268\n",
      "# Clusters: 10\n",
      "    F1 score: 0.1279746658594514\n",
      "# Clusters: 11\n",
      "    F1 score: 0.13191261583754307\n",
      "# Clusters: 12\n",
      "    F1 score: 0.1294084301737053\n",
      "# Clusters: 13\n",
      "    F1 score: 0.12774294670846395\n",
      "# Clusters: 14\n",
      "    F1 score: 0.12828107445613318\n",
      "# Clusters: 15\n",
      "    F1 score: 0.12991683524387504\n",
      "# Clusters: 16\n",
      "    F1 score: 0.13454671848832434\n",
      "# Clusters: 17\n",
      "    F1 score: 0.13426235245458307\n",
      "# Clusters: 18\n",
      "    F1 score: 0.13775641135309918\n",
      "# Clusters: 19\n",
      "    F1 score: 0.1363660370050878\n",
      "# Clusters: 20\n",
      "    F1 score: 0.1379275053304904\n",
      "# Clusters: 21\n",
      "    F1 score: 0.13873191974700608\n",
      "# Clusters: 22\n",
      "    F1 score: 0.13765531027589653\n",
      "# Clusters: 23\n",
      "    F1 score: 0.13925632577540456\n",
      "# Clusters: 24\n",
      "    F1 score: 0.1360701380249985\n",
      "# Clusters: 25\n",
      "    F1 score: 0.14127939130871975\n",
      "# Clusters: 26\n",
      "    F1 score: 0.13930709805842115\n",
      "# Clusters: 27\n",
      "    F1 score: 0.14131355932203388\n",
      "# Clusters: 28\n",
      "    F1 score: 0.13779694466778744\n",
      "# Clusters: 29\n",
      "    F1 score: 0.13796480398848565\n",
      "# Clusters: 30\n",
      "    F1 score: 0.14018833998720018\n",
      "Bronx K-Means analysis\n"
     ]
    },
    {
     "name": "stderr",
     "output_type": "stream",
     "text": [
      "<ipython-input-4-b06eb04ef342>:35: MatplotlibDeprecationWarning: Adding an axes using the same arguments as a previous axes currently reuses the earlier instance.  In a future version, a new instance will always be created and returned.  Meanwhile, this warning can be suppressed, and the future behavior ensured, by passing a unique label to each axes instance.\n",
      "  _ = plt.subplot(236)\n"
     ]
    },
    {
     "name": "stdout",
     "output_type": "stream",
     "text": [
      "# Clusters: 2\n",
      "    F1 score: 0.14852952648412512\n",
      "# Clusters: 3\n",
      "    F1 score: 0.14443686571174633\n",
      "# Clusters: 4\n",
      "    F1 score: 0.14793522059389677\n",
      "# Clusters: 5\n",
      "    F1 score: 0.14999849881406313\n",
      "# Clusters: 6\n",
      "    F1 score: 0.14613164299054843\n",
      "# Clusters: 7\n",
      "    F1 score: 0.14976383164355123\n",
      "# Clusters: 8\n",
      "    F1 score: 0.14865702479338844\n",
      "# Clusters: 9\n",
      "    F1 score: 0.15371823144499477\n",
      "# Clusters: 10\n",
      "    F1 score: 0.1540273891915771\n",
      "# Clusters: 11\n",
      "    F1 score: 0.15087099524911682\n",
      "# Clusters: 12\n",
      "    F1 score: 0.1496245128172629\n",
      "# Clusters: 13\n",
      "    F1 score: 0.15040916021033637\n",
      "# Clusters: 14\n",
      "    F1 score: 0.15152680563033613\n",
      "# Clusters: 15\n",
      "    F1 score: 0.15440059357665267\n",
      "# Clusters: 16\n",
      "    F1 score: 0.15366438475171143\n",
      "# Clusters: 17\n",
      "    F1 score: 0.15295201194143615\n",
      "# Clusters: 18\n",
      "    F1 score: 0.15332012526362881\n",
      "# Clusters: 19\n",
      "    F1 score: 0.15296195408147994\n",
      "# Clusters: 20\n",
      "    F1 score: 0.15222444889779557\n",
      "# Clusters: 21\n",
      "    F1 score: 0.1535380046275512\n",
      "# Clusters: 22\n",
      "    F1 score: 0.15212105609428186\n",
      "# Clusters: 23\n",
      "    F1 score: 0.15558574103307757\n",
      "# Clusters: 24\n",
      "    F1 score: 0.15570236164405238\n",
      "# Clusters: 25\n",
      "    F1 score: 0.15455939765755716\n",
      "# Clusters: 26\n",
      "    F1 score: 0.15387474447128785\n",
      "# Clusters: 27\n",
      "    F1 score: 0.1569380151292763\n",
      "# Clusters: 28\n",
      "    F1 score: 0.15172255791975717\n",
      "# Clusters: 29\n",
      "    F1 score: 0.15289063996278968\n",
      "# Clusters: 30\n",
      "    F1 score: 0.15559548890816707\n"
     ]
    },
    {
     "name": "stderr",
     "output_type": "stream",
     "text": [
      "<ipython-input-4-b06eb04ef342>:35: MatplotlibDeprecationWarning: Adding an axes using the same arguments as a previous axes currently reuses the earlier instance.  In a future version, a new instance will always be created and returned.  Meanwhile, this warning can be suppressed, and the future behavior ensured, by passing a unique label to each axes instance.\n",
      "  _ = plt.subplot(236)\n"
     ]
    },
    {
     "data": {
      "image/png": "[encoded data removed]",
      "text/plain": [
       "<Figure size 1080x720 with 6 Axes>"
      ]
     },
     "metadata": {
      "needs_background": "light"
     },
     "output_type": "display_data"
    }
   ],
   "source": [
    "boroughs = ['MANHATTAN','BROOKLYN','STATEN ISLAND','QUEENS','BRONX']\n",
    "subplots = [231,232,233,234,235]\n",
    "k_range = range(2,31)\n",
    "\n",
    "_ = plt.figure(figsize=(15,10))\n",
    "max_k = {}\n",
    "for space, current_borough in zip(subplots, boroughs):\n",
    "    print(f'{current_borough.title()} K-Means analysis')\n",
    "    borough = df[df['BOROUGH'] == current_borough]\n",
    "    f1_list = []\n",
    "    for i in k_range:\n",
    "        kmeans = KMeans(n_clusters=i, random_state=42)\n",
    "        kmeans.fit(borough[['LATITUDE','LONGITUDE']].values)\n",
    "        df_clusters = pd.Series(kmeans.labels_)\n",
    "        cluster_dummies = pd.get_dummies(df_clusters)\n",
    "        X = scipy.sparse.csr_matrix(cluster_dummies)\n",
    "        y = borough['CASUALTIES?']\n",
    "        X_train, X_test, y_train, y_test = train_test_split(X, y, test_size=0.3, random_state=42)\n",
    "        log_reg = LogisticRegression(class_weight='balanced', max_iter=10_000)\n",
    "        log_reg.fit(X_train, y_train)\n",
    "        y_pred = log_reg.predict(X_test)\n",
    "        log_f1 = f1_score(y_test, y_pred)\n",
    "        print(f'# Clusters: {i}\\n    F1 score: {log_f1}')\n",
    "        f1_list.append(log_f1)\n",
    "    _ = plt.subplot(space)\n",
    "    _ = plt.plot(k_range, f1_list, 'k-')\n",
    "    _ = plt.grid()\n",
    "    _ = plt.xlabel(f'{current_borough.title()} Clusters', fontsize=12)\n",
    "    _ = plt.ylabel('f1 Score', fontsize=12)\n",
    "    _ = plt.xticks(k_range, rotation=60, ha='right', fontsize=6)\n",
    "    max_k[current_borough] = {\n",
    "                        'K':f1_list.index(max(f1_list))+2,\n",
    "                        'Score': max(f1_list)\n",
    "            }\n",
    "    _ = plt.subplot(236)\n",
    "    _ = plt.scatter(borough['LATITUDE'], borough['LONGITUDE'], alpha=0.4)\n",
    "    _ = plt.scatter(kmeans.cluster_centers_[:,0], kmeans.cluster_centers_[:,1])\n",
    "_ = plt.savefig('K-Means borough analysis.png')"
   ]
  },
  {
   "cell_type": "code",
   "execution_count": 5,
   "metadata": {},
   "outputs": [
    {
     "name": "stdout",
     "output_type": "stream",
     "text": [
      "MANHATTAN\n",
      "    {'K': 29, 'Score': 0.17354768913377108}\n",
      "BROOKLYN\n",
      "    {'K': 30, 'Score': 0.18631187938527277}\n",
      "STATEN ISLAND\n",
      "    {'K': 15, 'Score': 0.11104179663131628}\n",
      "QUEENS\n",
      "    {'K': 27, 'Score': 0.14131355932203388}\n",
      "BRONX\n",
      "    {'K': 27, 'Score': 0.1569380151292763}\n"
     ]
    }
   ],
   "source": [
    "for i in max_k:\n",
    "    print(f'{i}\\n    {max_k[i]}')"
   ]
  },
  {
   "cell_type": "markdown",
   "metadata": {},
   "source": [
    "### Fit clusters"
   ]
  },
  {
   "cell_type": "code",
   "execution_count": 6,
   "metadata": {},
   "outputs": [
    {
     "name": "stdout",
     "output_type": "stream",
     "text": [
      "Fitting K-means clusters...\n",
      "    Calculating Manhattan clusters...\n",
      "    Calculating Brooklyn clusters...\n",
      "    Calculating Staten Island clusters...\n",
      "    Calculating Queens clusters...\n",
      "    Calculating Bronx clusters...\n",
      "Done.\n"
     ]
    }
   ],
   "source": [
    "print('Fitting K-means clusters...')\n",
    "k_clusters = []\n",
    "for i in max_k:\n",
    "    k_clusters.append(max_k[i]['K'])\n",
    "for n, borough in zip(k_clusters,boroughs):\n",
    "    print(f'    Calculating {borough.title()} clusters...')\n",
    "    \n",
    "    borough_accidents = df[df['BOROUGH'] == borough]\n",
    "    kmeans = KMeans(n_clusters=n, random_state=42)\n",
    "    kmeans.fit(borough_accidents[['LATITUDE','LONGITUDE']].values)\n",
    "    \n",
    "    df.loc[df['BOROUGH'] == borough, f'{borough} CLUSTERS'] = kmeans.labels_\n",
    "print('Done.')"
   ]
  },
  {
   "cell_type": "markdown",
   "metadata": {},
   "source": [
    "### Create feature set"
   ]
  },
  {
   "cell_type": "code",
   "execution_count": 7,
   "metadata": {},
   "outputs": [
    {
     "name": "stdout",
     "output_type": "stream",
     "text": [
      "Creating feature set...\n",
      "Done.\n"
     ]
    }
   ],
   "source": [
    "print('Creating feature set...')\n",
    "borough_dummies = pd.get_dummies(df['BOROUGH'], sparse=True)\n",
    "borough_clusters = [borough+' CLUSTERS' for borough in boroughs]\n",
    "cluster_dummies = pd.get_dummies(df[borough_clusters].fillna(''), prefix='CLUSTER', sparse=True)\n",
    "pre_X = cluster_dummies.join(borough_dummies)\n",
    "print('Done.')"
   ]
  },
  {
   "cell_type": "markdown",
   "metadata": {},
   "source": [
    "### Split data"
   ]
  },
  {
   "cell_type": "code",
   "execution_count": 8,
   "metadata": {},
   "outputs": [
    {
     "name": "stdout",
     "output_type": "stream",
     "text": [
      "Splitting data...\n",
      "Done.\n"
     ]
    }
   ],
   "source": [
    "print('Splitting data...')\n",
    "X = scipy.sparse.csr_matrix(pre_X)\n",
    "y = df['CASUALTIES?']\n",
    "\n",
    "X_train, X_test, y_train, y_test = train_test_split(X, y, test_size=0.3, random_state=42)\n",
    "print('Done.')"
   ]
  },
  {
   "cell_type": "markdown",
   "metadata": {},
   "source": [
    "### Random Forest Bayesian search"
   ]
  },
  {
   "cell_type": "code",
   "execution_count": 9,
   "metadata": {},
   "outputs": [
    {
     "name": "stderr",
     "output_type": "stream",
     "text": [
      "[Parallel(n_jobs=-1)]: Using backend ThreadingBackend with 16 concurrent workers.\n"
     ]
    },
    {
     "name": "stdout",
     "output_type": "stream",
     "text": [
      "building tree 1 of 27\n",
      "building tree 2 of 27building tree 3 of 27\n",
      "building tree 4 of 27\n",
      "building tree 5 of 27\n",
      "building tree 6 of 27building tree 7 of 27\n",
      "\n",
      "\n",
      "building tree 8 of 27building tree 9 of 27\n",
      "\n",
      "building tree 10 of 27building tree 11 of 27\n",
      "building tree 12 of 27\n",
      "\n",
      "building tree 13 of 27\n",
      "building tree 14 of 27\n",
      "building tree 15 of 27\n",
      "building tree 16 of 27\n",
      "building tree 17 of 27\n",
      "building tree 18 of 27\n",
      "building tree 19 of 27\n",
      "building tree 20 of 27\n",
      "building tree 21 of 27\n",
      "building tree 22 of 27\n",
      "building tree 23 of 27\n",
      "building tree 24 of 27building tree 25 of 27\n",
      "\n"
     ]
    },
    {
     "name": "stderr",
     "output_type": "stream",
     "text": [
      "[Parallel(n_jobs=-1)]: Done  10 out of  27 | elapsed:    8.1s remaining:   13.8s\n"
     ]
    },
    {
     "name": "stdout",
     "output_type": "stream",
     "text": [
      "building tree 26 of 27\n",
      "building tree 27 of 27\n"
     ]
    },
    {
     "name": "stderr",
     "output_type": "stream",
     "text": [
      "[Parallel(n_jobs=-1)]: Done  24 out of  27 | elapsed:   12.8s remaining:    1.6s\n"
     ]
    },
    {
     "name": "stdout",
     "output_type": "stream",
     "text": [
      "OrderedDict([('class_weight', 'balanced'), ('criterion', 'entropy'), ('max_depth', 48), ('max_features', 1), ('min_impurity_decrease', 0.0), ('min_samples_leaf', 3), ('n_estimators', 27), ('n_jobs', -1), ('random_state', 42), ('verbose', 2)])\n",
      "0.16735263974290907\n"
     ]
    },
    {
     "name": "stderr",
     "output_type": "stream",
     "text": [
      "[Parallel(n_jobs=-1)]: Done  27 out of  27 | elapsed:   13.0s finished\n"
     ]
    }
   ],
   "source": [
    "cv = BayesSearchCV(estimator=RandomForestClassifier(), search_spaces=rf_params, scoring=make_scorer(f1_score), n_jobs=-1, return_train_score=True)\n",
    "cv.fit(X_train, y_train)\n",
    "\n",
    "cv_results = pd.DataFrame(cv.cv_results_)\n",
    "cv_results[['param_max_depth','param_n_estimators','mean_train_score','mean_test_score','mean_fit_time']].sort_values(by='mean_test_score', ascending=False)\n",
    "\n",
    "print(f'{cv.best_params_}\\n{cv.best_score_}')"
   ]
  },
  {
   "cell_type": "markdown",
   "metadata": {},
   "source": [
    "### Random Forest best params"
   ]
  },
  {
   "cell_type": "code",
   "execution_count": 10,
   "metadata": {},
   "outputs": [
    {
     "name": "stderr",
     "output_type": "stream",
     "text": [
      "[Parallel(n_jobs=-1)]: Using backend ThreadingBackend with 16 concurrent workers.\n"
     ]
    },
    {
     "name": "stdout",
     "output_type": "stream",
     "text": [
      "building tree 1 of 27\n",
      "building tree 2 of 27\n",
      "building tree 3 of 27building tree 4 of 27\n",
      "\n",
      "building tree 5 of 27\n",
      "building tree 6 of 27\n",
      "building tree 7 of 27\n",
      "building tree 8 of 27\n",
      "building tree 9 of 27\n",
      "building tree 10 of 27\n",
      "building tree 11 of 27\n",
      "building tree 12 of 27\n",
      "building tree 13 of 27\n",
      "building tree 14 of 27\n",
      "building tree 15 of 27\n",
      "building tree 16 of 27\n",
      "building tree 17 of 27\n",
      "building tree 18 of 27\n",
      "building tree 19 of 27\n",
      "building tree 20 of 27\n",
      "building tree 21 of 27\n",
      "building tree 22 of 27building tree 23 of 27\n",
      "\n",
      "building tree 24 of 27\n",
      "building tree 25 of 27\n",
      "building tree 26 of 27\n",
      "building tree 27 of 27\n"
     ]
    },
    {
     "name": "stderr",
     "output_type": "stream",
     "text": [
      "[Parallel(n_jobs=-1)]: Done  10 out of  27 | elapsed:    8.4s remaining:   14.4s\n",
      "[Parallel(n_jobs=-1)]: Done  24 out of  27 | elapsed:   12.9s remaining:    1.6s\n",
      "[Parallel(n_jobs=-1)]: Done  27 out of  27 | elapsed:   13.3s finished\n",
      "[Parallel(n_jobs=16)]: Using backend ThreadingBackend with 16 concurrent workers.\n",
      "[Parallel(n_jobs=16)]: Done  10 out of  27 | elapsed:    0.1s remaining:    0.2s\n",
      "[Parallel(n_jobs=16)]: Done  24 out of  27 | elapsed:    0.2s remaining:    0.0s\n",
      "[Parallel(n_jobs=16)]: Done  27 out of  27 | elapsed:    0.2s finished\n"
     ]
    },
    {
     "name": "stdout",
     "output_type": "stream",
     "text": [
      "OrderedDict([('class_weight', 'balanced'), ('criterion', 'entropy'), ('max_depth', 48), ('max_features', 1), ('min_impurity_decrease', 0.0), ('min_samples_leaf', 3), ('n_estimators', 27), ('n_jobs', -1), ('random_state', 42), ('verbose', 2)])\n",
      "0.1676539986947136\n"
     ]
    }
   ],
   "source": [
    "rf_clf = RandomForestClassifier(**cv.best_params_)\n",
    "rf_clf.fit(X_train, y_train)\n",
    "\n",
    "y_pred = rf_clf.predict(X_test)\n",
    "print(cv.best_params_)\n",
    "print(f1_score(y_test, y_pred))"
   ]
  },
  {
   "cell_type": "markdown",
   "metadata": {},
   "source": [
    "### Export fitted tools"
   ]
  },
  {
   "cell_type": "code",
   "execution_count": 11,
   "metadata": {},
   "outputs": [
    {
     "data": {
      "text/plain": [
       "True"
      ]
     },
     "execution_count": 11,
     "metadata": {},
     "output_type": "execute_result"
    }
   ],
   "source": [
    "params_path = r'../Predictor tools/rf_params.pickle'\n",
    "with open(params_path, 'wb') as file:\n",
    "    pickle.dump(cv.best_params_, file)\n",
    "    \n",
    "with open(params_path, 'rb') as file:\n",
    "    test = pickle.load(file)\n",
    "    \n",
    "test == cv.best_params_"
   ]
  },
  {
   "cell_type": "code",
   "execution_count": 12,
   "metadata": {},
   "outputs": [
    {
     "data": {
      "text/plain": [
       "True"
      ]
     },
     "execution_count": 12,
     "metadata": {},
     "output_type": "execute_result"
    }
   ],
   "source": [
    "params_path = r'../Predictor tools/k_clusters.pickle'\n",
    "with open(params_path, 'wb') as file:\n",
    "    pickle.dump(max_k, file)\n",
    "    \n",
    "with open(params_path, 'rb') as file:\n",
    "    test = pickle.load(file)\n",
    "\n",
    "test == max_k"
   ]
  }
 ],
 "metadata": {
  "kernelspec": {
   "display_name": "Python 3",
   "language": "python",
   "name": "python3"
  },
  "language_info": {
   "codemirror_mode": {
    "name": "ipython",
    "version": 3
   },
   "file_extension": ".py",
   "mimetype": "text/x-python",
   "name": "python",
   "nbconvert_exporter": "python",
   "pygments_lexer": "ipython3",
   "version": "3.8.3"
  }
 },
 "nbformat": 4,
 "nbformat_minor": 4
}

{
 "cells": [
  {
   "cell_type": "markdown",
   "metadata": {},
   "source": [
    "### Import libraries"
   ]
  },
  {
   "cell_type": "code",
   "execution_count": 1,
   "metadata": {},
   "outputs": [],
   "source": [
    "import pandas as pd\n",
    "import numpy as np\n",
    "import matplotlib.pyplot as plt\n",
    "import seaborn as sns\n",
    "%matplotlib inline\n",
    "import datetime as dt\n",
    "import scipy.stats as stats\n",
    "import scipy.sparse\n",
    "from sklearn.model_selection import train_test_split, GridSearchCV\n",
    "from sklearn.preprocessing import MinMaxScaler\n",
    "from sklearn.kernel_approximation import RBFSampler\n",
    "from sklearn.linear_model import LogisticRegression\n",
    "from sklearn.ensemble import RandomForestClassifier\n",
    "from sklearn.feature_extraction.text import TfidfVectorizer\n",
    "from sklearn.svm import SVC\n",
    "from sklearn.cluster import KMeans\n",
    "from sklearn.metrics import f1_score, confusion_matrix, make_scorer"
   ]
  },
  {
   "cell_type": "markdown",
   "metadata": {},
   "source": [
    "### Import data"
   ]
  },
  {
   "cell_type": "code",
   "execution_count": 2,
   "metadata": {
    "scrolled": false
   },
   "outputs": [
    {
     "data": {
      "text/html": [
       "<div>\n",
       "<style scoped>\n",
       "    .dataframe tbody tr th:only-of-type {\n",
       "        vertical-align: middle;\n",
       "    }\n",
       "\n",
       "    .dataframe tbody tr th {\n",
       "        vertical-align: top;\n",
       "    }\n",
       "\n",
       "    .dataframe thead th {\n",
       "        text-align: right;\n",
       "    }\n",
       "</style>\n",
       "<table border=\"1\" class=\"dataframe\">\n",
       "  <thead>\n",
       "    <tr style=\"text-align: right;\">\n",
       "      <th></th>\n",
       "      <th>Unnamed: 0</th>\n",
       "      <th>CRASH DATE</th>\n",
       "      <th>CRASH TIME</th>\n",
       "      <th>BOROUGH</th>\n",
       "      <th>ZIP CODE</th>\n",
       "      <th>LATITUDE</th>\n",
       "      <th>LONGITUDE</th>\n",
       "      <th>LOCATION</th>\n",
       "      <th>ON STREET NAME</th>\n",
       "      <th>CROSS STREET NAME</th>\n",
       "      <th>...</th>\n",
       "      <th>DISTANCE FROM MADISON SQUARE GARDEN</th>\n",
       "      <th>DISTANCE FROM PORT AUTHORITY</th>\n",
       "      <th>DISTANCE FROM GRAND ARMY PLAZA</th>\n",
       "      <th>DISTANCE FROM TRIBECA</th>\n",
       "      <th>DISTANCE FROM BATTERY PARK</th>\n",
       "      <th>DISTANCE FROM SOHO</th>\n",
       "      <th>DISTANCE FROM CONEY ISLAND</th>\n",
       "      <th>DAYS FROM NEW YEARS</th>\n",
       "      <th>DAYS FROM CHRISTMAS</th>\n",
       "      <th>DAYS FROM JULY 4</th>\n",
       "    </tr>\n",
       "  </thead>\n",
       "  <tbody>\n",
       "    <tr>\n",
       "      <th>0</th>\n",
       "      <td>0</td>\n",
       "      <td>2017-06-26 00:00:00</td>\n",
       "      <td>2020-09-22 22:00:00</td>\n",
       "      <td>MANHATTAN</td>\n",
       "      <td>10002.0</td>\n",
       "      <td>40.718270</td>\n",
       "      <td>-73.99072</td>\n",
       "      <td>POINT (-73.99072 40.71827)</td>\n",
       "      <td>ALLEN STREET</td>\n",
       "      <td>BROOME STREET</td>\n",
       "      <td>...</td>\n",
       "      <td>0.032134</td>\n",
       "      <td>0.038880</td>\n",
       "      <td>0.051023</td>\n",
       "      <td>0.017988</td>\n",
       "      <td>0.029482</td>\n",
       "      <td>0.013270</td>\n",
       "      <td>0.144167</td>\n",
       "      <td>176 days</td>\n",
       "      <td>-182 days</td>\n",
       "      <td>-8 days</td>\n",
       "    </tr>\n",
       "    <tr>\n",
       "      <th>1</th>\n",
       "      <td>1</td>\n",
       "      <td>2017-07-14 00:00:00</td>\n",
       "      <td>2020-09-22 13:17:00</td>\n",
       "      <td>NaN</td>\n",
       "      <td>10028.0</td>\n",
       "      <td>40.783180</td>\n",
       "      <td>-73.94362</td>\n",
       "      <td>POINT (-73.94362 40.78318)</td>\n",
       "      <td>FDR DRIVE</td>\n",
       "      <td>NaN</td>\n",
       "      <td>...</td>\n",
       "      <td>0.059596</td>\n",
       "      <td>0.054004</td>\n",
       "      <td>0.113396</td>\n",
       "      <td>0.093249</td>\n",
       "      <td>0.107943</td>\n",
       "      <td>0.084330</td>\n",
       "      <td>0.209438</td>\n",
       "      <td>194 days</td>\n",
       "      <td>-164 days</td>\n",
       "      <td>10 days</td>\n",
       "    </tr>\n",
       "    <tr>\n",
       "      <th>2</th>\n",
       "      <td>2</td>\n",
       "      <td>2017-07-04 00:00:00</td>\n",
       "      <td>2020-09-22 14:00:00</td>\n",
       "      <td>BRONX</td>\n",
       "      <td>10462.0</td>\n",
       "      <td>40.833557</td>\n",
       "      <td>-73.85774</td>\n",
       "      <td>POINT (-73.85774 40.833557)</td>\n",
       "      <td>WESTCHESTER AVENUE</td>\n",
       "      <td>PUGSLEY AVENUE</td>\n",
       "      <td>...</td>\n",
       "      <td>0.159107</td>\n",
       "      <td>0.153556</td>\n",
       "      <td>0.195316</td>\n",
       "      <td>0.191071</td>\n",
       "      <td>0.205098</td>\n",
       "      <td>0.182365</td>\n",
       "      <td>0.281697</td>\n",
       "      <td>184 days</td>\n",
       "      <td>-174 days</td>\n",
       "      <td>0 days</td>\n",
       "    </tr>\n",
       "    <tr>\n",
       "      <th>3</th>\n",
       "      <td>3</td>\n",
       "      <td>2017-07-17 00:00:00</td>\n",
       "      <td>2020-09-22 21:03:00</td>\n",
       "      <td>MANHATTAN</td>\n",
       "      <td>10032.0</td>\n",
       "      <td>40.833843</td>\n",
       "      <td>-73.94851</td>\n",
       "      <td>POINT (-73.94851 40.833843)</td>\n",
       "      <td>RIVERSIDE DRIVE</td>\n",
       "      <td>WEST 155 STREET</td>\n",
       "      <td>...</td>\n",
       "      <td>0.094805</td>\n",
       "      <td>0.087647</td>\n",
       "      <td>0.162559</td>\n",
       "      <td>0.132012</td>\n",
       "      <td>0.147135</td>\n",
       "      <td>0.123243</td>\n",
       "      <td>0.259294</td>\n",
       "      <td>197 days</td>\n",
       "      <td>-161 days</td>\n",
       "      <td>13 days</td>\n",
       "    </tr>\n",
       "    <tr>\n",
       "      <th>4</th>\n",
       "      <td>4</td>\n",
       "      <td>2017-06-26 00:00:00</td>\n",
       "      <td>2020-09-22 15:35:00</td>\n",
       "      <td>BROOKLYN</td>\n",
       "      <td>11203.0</td>\n",
       "      <td>40.654434</td>\n",
       "      <td>-73.92139</td>\n",
       "      <td>POINT (-73.92139 40.654434)</td>\n",
       "      <td>REMSEN AVENUE</td>\n",
       "      <td>LINDEN BOULEVARD</td>\n",
       "      <td>...</td>\n",
       "      <td>0.119852</td>\n",
       "      <td>0.124044</td>\n",
       "      <td>0.050176</td>\n",
       "      <td>0.106925</td>\n",
       "      <td>0.106393</td>\n",
       "      <td>0.106784</td>\n",
       "      <td>0.093070</td>\n",
       "      <td>176 days</td>\n",
       "      <td>-182 days</td>\n",
       "      <td>-8 days</td>\n",
       "    </tr>\n",
       "  </tbody>\n",
       "</table>\n",
       "<p>5 rows × 55 columns</p>\n",
       "</div>"
      ],
      "text/plain": [
       "   Unnamed: 0           CRASH DATE           CRASH TIME    BOROUGH  ZIP CODE  \\\n",
       "0           0  2017-06-26 00:00:00  2020-09-22 22:00:00  MANHATTAN   10002.0   \n",
       "1           1  2017-07-14 00:00:00  2020-09-22 13:17:00        NaN   10028.0   \n",
       "2           2  2017-07-04 00:00:00  2020-09-22 14:00:00      BRONX   10462.0   \n",
       "3           3  2017-07-17 00:00:00  2020-09-22 21:03:00  MANHATTAN   10032.0   \n",
       "4           4  2017-06-26 00:00:00  2020-09-22 15:35:00   BROOKLYN   11203.0   \n",
       "\n",
       "    LATITUDE  LONGITUDE                     LOCATION  \\\n",
       "0  40.718270  -73.99072   POINT (-73.99072 40.71827)   \n",
       "1  40.783180  -73.94362   POINT (-73.94362 40.78318)   \n",
       "2  40.833557  -73.85774  POINT (-73.85774 40.833557)   \n",
       "3  40.833843  -73.94851  POINT (-73.94851 40.833843)   \n",
       "4  40.654434  -73.92139  POINT (-73.92139 40.654434)   \n",
       "\n",
       "                     ON STREET NAME CROSS STREET NAME  ...  \\\n",
       "0  ALLEN STREET                         BROOME STREET  ...   \n",
       "1  FDR DRIVE                                      NaN  ...   \n",
       "2  WESTCHESTER AVENUE                  PUGSLEY AVENUE  ...   \n",
       "3  RIVERSIDE DRIVE                    WEST 155 STREET  ...   \n",
       "4  REMSEN AVENUE                     LINDEN BOULEVARD  ...   \n",
       "\n",
       "  DISTANCE FROM MADISON SQUARE GARDEN  DISTANCE FROM PORT AUTHORITY  \\\n",
       "0                            0.032134                      0.038880   \n",
       "1                            0.059596                      0.054004   \n",
       "2                            0.159107                      0.153556   \n",
       "3                            0.094805                      0.087647   \n",
       "4                            0.119852                      0.124044   \n",
       "\n",
       "   DISTANCE FROM GRAND ARMY PLAZA  DISTANCE FROM TRIBECA  \\\n",
       "0                        0.051023               0.017988   \n",
       "1                        0.113396               0.093249   \n",
       "2                        0.195316               0.191071   \n",
       "3                        0.162559               0.132012   \n",
       "4                        0.050176               0.106925   \n",
       "\n",
       "   DISTANCE FROM BATTERY PARK  DISTANCE FROM SOHO  DISTANCE FROM CONEY ISLAND  \\\n",
       "0                    0.029482            0.013270                    0.144167   \n",
       "1                    0.107943            0.084330                    0.209438   \n",
       "2                    0.205098            0.182365                    0.281697   \n",
       "3                    0.147135            0.123243                    0.259294   \n",
       "4                    0.106393            0.106784                    0.093070   \n",
       "\n",
       "   DAYS FROM NEW YEARS  DAYS FROM CHRISTMAS DAYS FROM JULY 4  \n",
       "0             176 days            -182 days          -8 days  \n",
       "1             194 days            -164 days          10 days  \n",
       "2             184 days            -174 days           0 days  \n",
       "3             197 days            -161 days          13 days  \n",
       "4             176 days            -182 days          -8 days  \n",
       "\n",
       "[5 rows x 55 columns]"
      ]
     },
     "execution_count": 2,
     "metadata": {},
     "output_type": "execute_result"
    }
   ],
   "source": [
    "data_path = r'data/clean_df.csv.gz'\n",
    "df = pd.read_csv(data_path)\n",
    "df.head()"
   ]
  },
  {
   "cell_type": "code",
   "execution_count": 4,
   "metadata": {},
   "outputs": [],
   "source": [
    "df['CRASH DATE'] = pd.to_datetime(df['CRASH DATE'])\n",
    "df['CRASH TIME'] = pd.to_datetime(df['CRASH TIME'])"
   ]
  },
  {
   "cell_type": "markdown",
   "metadata": {},
   "source": [
    "### Create target"
   ]
  },
  {
   "cell_type": "code",
   "execution_count": 5,
   "metadata": {},
   "outputs": [
    {
     "data": {
      "text/html": [
       "<div>\n",
       "<style scoped>\n",
       "    .dataframe tbody tr th:only-of-type {\n",
       "        vertical-align: middle;\n",
       "    }\n",
       "\n",
       "    .dataframe tbody tr th {\n",
       "        vertical-align: top;\n",
       "    }\n",
       "\n",
       "    .dataframe thead th {\n",
       "        text-align: right;\n",
       "    }\n",
       "</style>\n",
       "<table border=\"1\" class=\"dataframe\">\n",
       "  <thead>\n",
       "    <tr style=\"text-align: right;\">\n",
       "      <th></th>\n",
       "      <th>TOTAL PEDESTRIAN CASUALTIES</th>\n",
       "      <th>CASUALTIES?</th>\n",
       "    </tr>\n",
       "  </thead>\n",
       "  <tbody>\n",
       "    <tr>\n",
       "      <th>1373903</th>\n",
       "      <td>0</td>\n",
       "      <td>0</td>\n",
       "    </tr>\n",
       "    <tr>\n",
       "      <th>1236589</th>\n",
       "      <td>0</td>\n",
       "      <td>0</td>\n",
       "    </tr>\n",
       "    <tr>\n",
       "      <th>1464873</th>\n",
       "      <td>0</td>\n",
       "      <td>0</td>\n",
       "    </tr>\n",
       "    <tr>\n",
       "      <th>634732</th>\n",
       "      <td>0</td>\n",
       "      <td>0</td>\n",
       "    </tr>\n",
       "    <tr>\n",
       "      <th>254683</th>\n",
       "      <td>0</td>\n",
       "      <td>0</td>\n",
       "    </tr>\n",
       "  </tbody>\n",
       "</table>\n",
       "</div>"
      ],
      "text/plain": [
       "         TOTAL PEDESTRIAN CASUALTIES  CASUALTIES?\n",
       "1373903                            0            0\n",
       "1236589                            0            0\n",
       "1464873                            0            0\n",
       "634732                             0            0\n",
       "254683                             0            0"
      ]
     },
     "execution_count": 5,
     "metadata": {},
     "output_type": "execute_result"
    }
   ],
   "source": [
    "df['CASUALTIES?'] = 0\n",
    "mask = df['TOTAL PEDESTRIAN CASUALTIES'] != 0\n",
    "df.loc[mask, 'CASUALTIES?'] = 1\n",
    "df.loc[df['TOTAL PEDESTRIAN CASUALTIES'] != 1, ['TOTAL PEDESTRIAN CASUALTIES','CASUALTIES?']].sample(5)"
   ]
  },
  {
   "cell_type": "code",
   "execution_count": 6,
   "metadata": {
    "scrolled": false
   },
   "outputs": [
    {
     "name": "stdout",
     "output_type": "stream",
     "text": [
      "<class 'pandas.core.frame.DataFrame'>\n",
      "RangeIndex: 1486656 entries, 0 to 1486655\n",
      "Data columns (total 56 columns):\n",
      " #   Column                               Non-Null Count    Dtype         \n",
      "---  ------                               --------------    -----         \n",
      " 0   Unnamed: 0                           1486656 non-null  int64         \n",
      " 1   CRASH DATE                           1486656 non-null  datetime64[ns]\n",
      " 2   CRASH TIME                           1486656 non-null  datetime64[ns]\n",
      " 3   BOROUGH                              1143388 non-null  object        \n",
      " 4   ZIP CODE                             1486656 non-null  float64       \n",
      " 5   LATITUDE                             1486656 non-null  float64       \n",
      " 6   LONGITUDE                            1486656 non-null  float64       \n",
      " 7   LOCATION                             1486656 non-null  object        \n",
      " 8   ON STREET NAME                       1203377 non-null  object        \n",
      " 9   CROSS STREET NAME                    980930 non-null   object        \n",
      " 10  OFF STREET NAME                      221574 non-null   object        \n",
      " 11  NUMBER OF PERSONS INJURED            1486641 non-null  float64       \n",
      " 12  NUMBER OF PERSONS KILLED             1486628 non-null  float64       \n",
      " 13  NUMBER OF PEDESTRIANS INJURED        1486656 non-null  int64         \n",
      " 14  NUMBER OF PEDESTRIANS KILLED         1486656 non-null  int64         \n",
      " 15  NUMBER OF CYCLIST INJURED            1486656 non-null  int64         \n",
      " 16  NUMBER OF CYCLIST KILLED             1486656 non-null  int64         \n",
      " 17  NUMBER OF MOTORIST INJURED           1486656 non-null  int64         \n",
      " 18  NUMBER OF MOTORIST KILLED            1486656 non-null  int64         \n",
      " 19  CONTRIBUTING FACTOR VEHICLE 1        1482544 non-null  object        \n",
      " 20  CONTRIBUTING FACTOR VEHICLE 2        1278001 non-null  object        \n",
      " 21  CONTRIBUTING FACTOR VEHICLE 3        96924 non-null    object        \n",
      " 22  CONTRIBUTING FACTOR VEHICLE 4        20662 non-null    object        \n",
      " 23  CONTRIBUTING FACTOR VEHICLE 5        5402 non-null     object        \n",
      " 24  COLLISION_ID                         1486656 non-null  int64         \n",
      " 25  VEHICLE TYPE CODE 1                  1479080 non-null  object        \n",
      " 26  VEHICLE TYPE CODE 2                  1244692 non-null  object        \n",
      " 27  VEHICLE TYPE CODE 3                  94475 non-null    object        \n",
      " 28  VEHICLE TYPE CODE 4                  20111 non-null    object        \n",
      " 29  VEHICLE TYPE CODE 5                  5262 non-null     object        \n",
      " 30  RUSH HOUR                            1486656 non-null  int64         \n",
      " 31  SEASON                               1486656 non-null  object        \n",
      " 32  SUNRISE                              1486656 non-null  object        \n",
      " 33  SUNSET                               1486656 non-null  object        \n",
      " 34  DURING DAYTIME                       1486656 non-null  int64         \n",
      " 35  TOTAL PEDESTRIAN CASUALTIES          1486656 non-null  int64         \n",
      " 36  WEEKDAY                              1486656 non-null  object        \n",
      " 37  WEEKEND                              1486656 non-null  int64         \n",
      " 38  DISTANCE FROM TIMES SQUARE           1486656 non-null  float64       \n",
      " 39  DISTANCE FROM CENTRAL PARK           1486656 non-null  float64       \n",
      " 40  DISTANCE FROM FIFTH AVE              1486656 non-null  float64       \n",
      " 41  DISTANCE FROM GRAND CENTRAL STATION  1486656 non-null  float64       \n",
      " 42  DISTANCE FROM BRONX ZOO              1486656 non-null  float64       \n",
      " 43  DISTANCE FROM COLUMBUS CIRCLE        1486656 non-null  float64       \n",
      " 44  DISTANCE FROM UNION SQUARE           1486656 non-null  float64       \n",
      " 45  DISTANCE FROM MADISON SQUARE GARDEN  1486656 non-null  float64       \n",
      " 46  DISTANCE FROM PORT AUTHORITY         1486656 non-null  float64       \n",
      " 47  DISTANCE FROM GRAND ARMY PLAZA       1486656 non-null  float64       \n",
      " 48  DISTANCE FROM TRIBECA                1486656 non-null  float64       \n",
      " 49  DISTANCE FROM BATTERY PARK           1486656 non-null  float64       \n",
      " 50  DISTANCE FROM SOHO                   1486656 non-null  float64       \n",
      " 51  DISTANCE FROM CONEY ISLAND           1486656 non-null  float64       \n",
      " 52  DAYS FROM NEW YEARS                  1486656 non-null  object        \n",
      " 53  DAYS FROM CHRISTMAS                  1486656 non-null  object        \n",
      " 54  DAYS FROM JULY 4                     1486656 non-null  object        \n",
      " 55  CASUALTIES?                          1486656 non-null  int64         \n",
      "dtypes: datetime64[ns](2), float64(19), int64(13), object(22)\n",
      "memory usage: 635.2+ MB\n"
     ]
    }
   ],
   "source": [
    "df.info()"
   ]
  },
  {
   "cell_type": "markdown",
   "metadata": {},
   "source": [
    "## Feature development"
   ]
  },
  {
   "cell_type": "markdown",
   "metadata": {},
   "source": [
    "### Hyperparameter settings\n",
    "See _hyperparameter tuning_ notebook for evaluation and selection of hyperparameters."
   ]
  },
  {
   "cell_type": "code",
   "execution_count": 8,
   "metadata": {},
   "outputs": [],
   "source": [
    "# Random Forest hyperparameters\n",
    "rf_params = {\n",
    "    'class_weight':'balanced',\n",
    "    'max_depth':15,\n",
    "    'n_estimators':10,\n",
    "    'max_features':None,\n",
    "    'n_jobs':-1,\n",
    "    'random_state':42\n",
    "}\n",
    "\n",
    "# Logistic Regression hyperparameters\n",
    "log_params = {\n",
    "    'class_weight':'balanced',\n",
    "    'max_iter':10_000\n",
    "}\n",
    "\n",
    "# KMeans hyperparameters\n",
    "kmeans_params = {\n",
    "    'n_clusters':52,\n",
    "    'random_state':42\n",
    "}"
   ]
  },
  {
   "cell_type": "markdown",
   "metadata": {},
   "source": [
    "### Model 1: Add clusters"
   ]
  },
  {
   "cell_type": "code",
   "execution_count": 9,
   "metadata": {},
   "outputs": [
    {
     "data": {
      "text/plain": [
       "KMeans(n_clusters=52, random_state=42)"
      ]
     },
     "execution_count": 9,
     "metadata": {},
     "output_type": "execute_result"
    }
   ],
   "source": [
    "clusters=52\n",
    "kmeans = KMeans(**kmeans_params)\n",
    "kmeans.fit(df[['LATITUDE','LONGITUDE']].values)"
   ]
  },
  {
   "cell_type": "code",
   "execution_count": 10,
   "metadata": {
    "scrolled": true
   },
   "outputs": [
    {
     "data": {
      "image/png": "[encoded data removed]",
      "text/plain": [
       "<Figure size 432x288 with 1 Axes>"
      ]
     },
     "metadata": {
      "needs_background": "light"
     },
     "output_type": "display_data"
    }
   ],
   "source": [
    "_ = plt.scatter(df['LATITUDE'], df['LONGITUDE'], alpha=0.4)\n",
    "_ = plt.scatter(kmeans.cluster_centers_[:,0], kmeans.cluster_centers_[:,1])"
   ]
  },
  {
   "cell_type": "code",
   "execution_count": 11,
   "metadata": {},
   "outputs": [],
   "source": [
    "df['CLUSTERS'] = kmeans.labels_"
   ]
  },
  {
   "cell_type": "code",
   "execution_count": 12,
   "metadata": {
    "scrolled": false
   },
   "outputs": [
    {
     "data": {
      "text/html": [
       "<div>\n",
       "<style scoped>\n",
       "    .dataframe tbody tr th:only-of-type {\n",
       "        vertical-align: middle;\n",
       "    }\n",
       "\n",
       "    .dataframe tbody tr th {\n",
       "        vertical-align: top;\n",
       "    }\n",
       "\n",
       "    .dataframe thead th {\n",
       "        text-align: right;\n",
       "    }\n",
       "</style>\n",
       "<table border=\"1\" class=\"dataframe\">\n",
       "  <thead>\n",
       "    <tr style=\"text-align: right;\">\n",
       "      <th></th>\n",
       "      <th>CLUSTERS</th>\n",
       "    </tr>\n",
       "  </thead>\n",
       "  <tbody>\n",
       "    <tr>\n",
       "      <th>0</th>\n",
       "      <td>20</td>\n",
       "    </tr>\n",
       "    <tr>\n",
       "      <th>1</th>\n",
       "      <td>1</td>\n",
       "    </tr>\n",
       "    <tr>\n",
       "      <th>2</th>\n",
       "      <td>18</td>\n",
       "    </tr>\n",
       "    <tr>\n",
       "      <th>3</th>\n",
       "      <td>15</td>\n",
       "    </tr>\n",
       "    <tr>\n",
       "      <th>4</th>\n",
       "      <td>7</td>\n",
       "    </tr>\n",
       "  </tbody>\n",
       "</table>\n",
       "</div>"
      ],
      "text/plain": [
       "   CLUSTERS\n",
       "0        20\n",
       "1         1\n",
       "2        18\n",
       "3        15\n",
       "4         7"
      ]
     },
     "execution_count": 12,
     "metadata": {},
     "output_type": "execute_result"
    }
   ],
   "source": [
    "df[['CLUSTERS']].head()"
   ]
  },
  {
   "cell_type": "code",
   "execution_count": 13,
   "metadata": {},
   "outputs": [],
   "source": [
    "borough_dummies = pd.get_dummies(df['BOROUGH'], sparse=True)\n",
    "cluster_dummies = pd.get_dummies(df['CLUSTERS'], prefix='CLUSTER', sparse=True)"
   ]
  },
  {
   "cell_type": "code",
   "execution_count": 14,
   "metadata": {},
   "outputs": [],
   "source": [
    "pre_X = cluster_dummies.join(borough_dummies)\n",
    "X = scipy.sparse.csr_matrix(pre_X)\n",
    "y = df['CASUALTIES?']\n",
    "X_train, X_test, y_train, y_test = train_test_split(X, y, test_size=0.3, random_state=42)"
   ]
  },
  {
   "cell_type": "code",
   "execution_count": 15,
   "metadata": {},
   "outputs": [
    {
     "name": "stdout",
     "output_type": "stream",
     "text": [
      "Logistic Regression F1: 0.16672666256372146\n",
      "Random Forest F1: 0.16807866170546448\n"
     ]
    }
   ],
   "source": [
    "log_reg = LogisticRegression(**log_params)\n",
    "log_reg.fit(X_train, y_train)\n",
    "y_pred = log_reg.predict(X_test)\n",
    "log_f1 = f1_score(y_test, y_pred)\n",
    "\n",
    "rf_clf = RandomForestClassifier(**rf_params)\n",
    "rf_clf.fit(X_train, y_train)\n",
    "y_pred = rf_clf.predict(X_test)\n",
    "rf_f1 = f1_score(y_test, y_pred)\n",
    "\n",
    "print(f'Logistic Regression F1: {log_f1}\\nRandom Forest F1: {rf_f1}')"
   ]
  },
  {
   "cell_type": "markdown",
   "metadata": {},
   "source": [
    "### Model 2: Add year/month/season"
   ]
  },
  {
   "cell_type": "code",
   "execution_count": 16,
   "metadata": {},
   "outputs": [],
   "source": [
    "df['YEAR'] = df['CRASH DATE'].dt.year\n",
    "df['MONTH'] = df['CRASH DATE'].dt.month\n",
    "\n",
    "year_dummies = pd.get_dummies(df['YEAR'], sparse=True, prefix='YEAR')\n",
    "month_dummies = pd.get_dummies(df['MONTH'], sparse=True)\n",
    "season_dummies = pd.get_dummies(df['SEASON'], sparse=True)"
   ]
  },
  {
   "cell_type": "code",
   "execution_count": 17,
   "metadata": {},
   "outputs": [],
   "source": [
    "pre_X = pre_X.join(year_dummies).join(season_dummies).join(month_dummies)\n",
    "X = scipy.sparse.csr_matrix(pre_X)\n",
    "\n",
    "X_train, X_test, y_train, y_test = train_test_split(X, y, test_size=0.3, random_state=42)"
   ]
  },
  {
   "cell_type": "code",
   "execution_count": 18,
   "metadata": {
    "scrolled": false
   },
   "outputs": [
    {
     "name": "stdout",
     "output_type": "stream",
     "text": [
      "Logistic Regression F1: 0.16753414228671754\n",
      "Random Forest F1: 0.16837482891220754\n"
     ]
    }
   ],
   "source": [
    "log_reg = LogisticRegression(**log_params)\n",
    "log_reg.fit(X_train, y_train)\n",
    "y_pred = log_reg.predict(X_test)\n",
    "log_f1 = f1_score(y_test, y_pred)\n",
    "\n",
    "rf_clf = RandomForestClassifier(**rf_params)\n",
    "rf_clf.fit(X_train, y_train)\n",
    "y_pred = rf_clf.predict(X_test)\n",
    "rf_f1 = f1_score(y_test, y_pred)\n",
    "\n",
    "print(f'Logistic Regression F1: {log_f1}\\nRandom Forest F1: {rf_f1}')"
   ]
  },
  {
   "cell_type": "markdown",
   "metadata": {},
   "source": [
    "### Model 3: Add hour/daytime/rush hour"
   ]
  },
  {
   "cell_type": "code",
   "execution_count": 19,
   "metadata": {
    "scrolled": true
   },
   "outputs": [],
   "source": [
    "df['HOUR'] = df['CRASH TIME'].dt.hour\n",
    "hour_dummies = pd.get_dummies(df['HOUR'], sparse=True, prefix='HOUR')\n",
    "\n",
    "pre_X = pre_X.join(df[['DURING DAYTIME','RUSH HOUR']]).join(hour_dummies)\n",
    "X = scipy.sparse.csr_matrix(pre_X)"
   ]
  },
  {
   "cell_type": "code",
   "execution_count": 20,
   "metadata": {},
   "outputs": [],
   "source": [
    "X_train, X_test, y_train, y_test = train_test_split(X, y, test_size=0.3, random_state=42)"
   ]
  },
  {
   "cell_type": "code",
   "execution_count": 21,
   "metadata": {},
   "outputs": [
    {
     "name": "stdout",
     "output_type": "stream",
     "text": [
      "Logistic Regression F1: 0.17623769842766107\n",
      "Random Forest F1: 0.17561331775700934\n"
     ]
    }
   ],
   "source": [
    "log_reg = LogisticRegression(**log_params)\n",
    "log_reg.fit(X_train, y_train)\n",
    "y_pred = log_reg.predict(X_test)\n",
    "log_f1 = f1_score(y_test, y_pred)\n",
    "\n",
    "rf_clf = RandomForestClassifier(**rf_params)\n",
    "rf_clf.fit(X_train, y_train)\n",
    "y_pred = rf_clf.predict(X_test)\n",
    "rf_f1 = f1_score(y_test, y_pred)\n",
    "\n",
    "print(f'Logistic Regression F1: {log_f1}\\nRandom Forest F1: {rf_f1}')"
   ]
  },
  {
   "cell_type": "markdown",
   "metadata": {},
   "source": [
    "### Model 4: Add weekday"
   ]
  },
  {
   "cell_type": "code",
   "execution_count": 22,
   "metadata": {},
   "outputs": [],
   "source": [
    "weekday_dummies = pd.get_dummies(df['WEEKDAY'], sparse=True)\n",
    "\n",
    "pre_X = pre_X.join(weekday_dummies)\n",
    "X = scipy.sparse.csr_matrix(pre_X)"
   ]
  },
  {
   "cell_type": "code",
   "execution_count": 23,
   "metadata": {},
   "outputs": [],
   "source": [
    "X_train, X_test, y_train, y_test = train_test_split(X, y, test_size=0.3, random_state=42)"
   ]
  },
  {
   "cell_type": "code",
   "execution_count": 24,
   "metadata": {},
   "outputs": [
    {
     "name": "stdout",
     "output_type": "stream",
     "text": [
      "Logistic Regression F1: 0.176272040302267\n",
      "Random Forest F1: 0.1751786350884263\n"
     ]
    }
   ],
   "source": [
    "log_reg = LogisticRegression(**log_params)\n",
    "log_reg.fit(X_train, y_train)\n",
    "y_pred = log_reg.predict(X_test)\n",
    "log_f1 = f1_score(y_test, y_pred)\n",
    "\n",
    "rf_clf = RandomForestClassifier(**rf_params)\n",
    "rf_clf.fit(X_train, y_train)\n",
    "y_pred = rf_clf.predict(X_test)\n",
    "rf_f1 = f1_score(y_test, y_pred)\n",
    "\n",
    "print(f'Logistic Regression F1: {log_f1}\\nRandom Forest F1: {rf_f1}')"
   ]
  },
  {
   "cell_type": "markdown",
   "metadata": {},
   "source": [
    "### Model 5: Add street names"
   ]
  },
  {
   "cell_type": "code",
   "execution_count": 25,
   "metadata": {},
   "outputs": [
    {
     "data": {
      "text/plain": [
       "VEHICLE TYPE CODE 5              1481394\n",
       "CONTRIBUTING FACTOR VEHICLE 5    1481254\n",
       "VEHICLE TYPE CODE 4              1466545\n",
       "CONTRIBUTING FACTOR VEHICLE 4    1465994\n",
       "VEHICLE TYPE CODE 3              1392181\n",
       "CONTRIBUTING FACTOR VEHICLE 3    1389732\n",
       "OFF STREET NAME                  1265082\n",
       "CROSS STREET NAME                 505726\n",
       "BOROUGH                           343268\n",
       "ON STREET NAME                    283279\n",
       "VEHICLE TYPE CODE 2               241964\n",
       "CONTRIBUTING FACTOR VEHICLE 2     208655\n",
       "VEHICLE TYPE CODE 1                 7576\n",
       "CONTRIBUTING FACTOR VEHICLE 1       4112\n",
       "NUMBER OF PERSONS KILLED              28\n",
       "NUMBER OF PERSONS INJURED             15\n",
       "dtype: int64"
      ]
     },
     "execution_count": 25,
     "metadata": {},
     "output_type": "execute_result"
    }
   ],
   "source": [
    "df.isnull().sum()[df.isnull().sum() != 0].sort_values(ascending=False)"
   ]
  },
  {
   "cell_type": "code",
   "execution_count": 26,
   "metadata": {},
   "outputs": [
    {
     "data": {
      "text/html": [
       "<div>\n",
       "<style scoped>\n",
       "    .dataframe tbody tr th:only-of-type {\n",
       "        vertical-align: middle;\n",
       "    }\n",
       "\n",
       "    .dataframe tbody tr th {\n",
       "        vertical-align: top;\n",
       "    }\n",
       "\n",
       "    .dataframe thead th {\n",
       "        text-align: right;\n",
       "    }\n",
       "</style>\n",
       "<table border=\"1\" class=\"dataframe\">\n",
       "  <thead>\n",
       "    <tr style=\"text-align: right;\">\n",
       "      <th></th>\n",
       "      <th>ON STREET NAME</th>\n",
       "      <th>STREET NAME IS NULL</th>\n",
       "    </tr>\n",
       "  </thead>\n",
       "  <tbody>\n",
       "    <tr>\n",
       "      <th>722881</th>\n",
       "      <td>NaN</td>\n",
       "      <td>1</td>\n",
       "    </tr>\n",
       "    <tr>\n",
       "      <th>329893</th>\n",
       "      <td>31 AVENUE</td>\n",
       "      <td>0</td>\n",
       "    </tr>\n",
       "    <tr>\n",
       "      <th>586259</th>\n",
       "      <td>SPRINGFIELD BOULEVARD</td>\n",
       "      <td>0</td>\n",
       "    </tr>\n",
       "    <tr>\n",
       "      <th>930644</th>\n",
       "      <td>GREENE AVENUE</td>\n",
       "      <td>0</td>\n",
       "    </tr>\n",
       "    <tr>\n",
       "      <th>229528</th>\n",
       "      <td>KENMARE STREET</td>\n",
       "      <td>0</td>\n",
       "    </tr>\n",
       "  </tbody>\n",
       "</table>\n",
       "</div>"
      ],
      "text/plain": [
       "                          ON STREET NAME  STREET NAME IS NULL\n",
       "722881                               NaN                    1\n",
       "329893  31 AVENUE                                           0\n",
       "586259  SPRINGFIELD BOULEVARD                               0\n",
       "930644  GREENE AVENUE                                       0\n",
       "229528  KENMARE STREET                                      0"
      ]
     },
     "execution_count": 26,
     "metadata": {},
     "output_type": "execute_result"
    }
   ],
   "source": [
    "df['STREET NAME IS NULL'] = df['ON STREET NAME'].isnull().astype('int')\n",
    "df[['ON STREET NAME', 'STREET NAME IS NULL']].sample(5)"
   ]
  },
  {
   "cell_type": "code",
   "execution_count": 27,
   "metadata": {},
   "outputs": [
    {
     "data": {
      "text/plain": [
       "0"
      ]
     },
     "execution_count": 27,
     "metadata": {},
     "output_type": "execute_result"
    }
   ],
   "source": [
    "df['ON STREET NAME'] = df['ON STREET NAME'].fillna('')\n",
    "df['ON STREET NAME'].isnull().sum()"
   ]
  },
  {
   "cell_type": "code",
   "execution_count": 28,
   "metadata": {},
   "outputs": [],
   "source": [
    "tfidf = TfidfVectorizer(min_df=50, max_df=.5)\n",
    "tfidf_df = pd.DataFrame.sparse.from_spmatrix(tfidf.fit_transform(df['ON STREET NAME']))\n",
    "tfidf_pre = tfidf_df.add_prefix('ON')\n",
    "pre_X = pre_X.join(tfidf_pre).join(df['STREET NAME IS NULL'])"
   ]
  },
  {
   "cell_type": "code",
   "execution_count": 29,
   "metadata": {
    "scrolled": true
   },
   "outputs": [
    {
     "data": {
      "text/plain": [
       "(1486656, 1606)"
      ]
     },
     "execution_count": 29,
     "metadata": {},
     "output_type": "execute_result"
    }
   ],
   "source": [
    "X = scipy.sparse.csr_matrix(pre_X)\n",
    "X.shape"
   ]
  },
  {
   "cell_type": "code",
   "execution_count": 30,
   "metadata": {},
   "outputs": [
    {
     "data": {
      "text/plain": [
       "(1040659, 1606)"
      ]
     },
     "execution_count": 30,
     "metadata": {},
     "output_type": "execute_result"
    }
   ],
   "source": [
    "X_train, X_test, y_train, y_test = train_test_split(X, y, test_size=0.3, random_state=42)\n",
    "X_train.shape"
   ]
  },
  {
   "cell_type": "code",
   "execution_count": 31,
   "metadata": {
    "scrolled": false
   },
   "outputs": [
    {
     "name": "stdout",
     "output_type": "stream",
     "text": [
      "Logistic Regression F1: 0.19233957311597707\n",
      "Random Forest F1: 0.17741665270564583\n"
     ]
    }
   ],
   "source": [
    "log_reg = LogisticRegression(**log_params)\n",
    "log_reg.fit(X_train, y_train)\n",
    "y_pred = log_reg.predict(X_test)\n",
    "log_f1 = f1_score(y_test, y_pred)\n",
    "\n",
    "rf_clf = RandomForestClassifier(**rf_params)\n",
    "rf_clf.fit(X_train, y_train)\n",
    "y_pred = rf_clf.predict(X_test)\n",
    "rf_f1 = f1_score(y_test, y_pred)\n",
    "\n",
    "print(f'Logistic Regression F1: {log_f1}\\nRandom Forest F1: {rf_f1}')"
   ]
  },
  {
   "cell_type": "markdown",
   "metadata": {},
   "source": [
    "### Model 6: Add off street names"
   ]
  },
  {
   "cell_type": "code",
   "execution_count": 32,
   "metadata": {},
   "outputs": [
    {
     "data": {
      "text/plain": [
       "1265082"
      ]
     },
     "execution_count": 32,
     "metadata": {},
     "output_type": "execute_result"
    }
   ],
   "source": [
    "df['OFF STREET NAME'].isnull().sum()"
   ]
  },
  {
   "cell_type": "code",
   "execution_count": 33,
   "metadata": {},
   "outputs": [
    {
     "data": {
      "text/html": [
       "<div>\n",
       "<style scoped>\n",
       "    .dataframe tbody tr th:only-of-type {\n",
       "        vertical-align: middle;\n",
       "    }\n",
       "\n",
       "    .dataframe tbody tr th {\n",
       "        vertical-align: top;\n",
       "    }\n",
       "\n",
       "    .dataframe thead th {\n",
       "        text-align: right;\n",
       "    }\n",
       "</style>\n",
       "<table border=\"1\" class=\"dataframe\">\n",
       "  <thead>\n",
       "    <tr style=\"text-align: right;\">\n",
       "      <th></th>\n",
       "      <th>OFF STREET NAME</th>\n",
       "      <th>OFF STREET NAME IS NULL</th>\n",
       "    </tr>\n",
       "  </thead>\n",
       "  <tbody>\n",
       "    <tr>\n",
       "      <th>1019</th>\n",
       "      <td>1767      FULTON AVENUE</td>\n",
       "      <td>0</td>\n",
       "    </tr>\n",
       "    <tr>\n",
       "      <th>425680</th>\n",
       "      <td>732       LONGFELLOW AVENUE</td>\n",
       "      <td>0</td>\n",
       "    </tr>\n",
       "    <tr>\n",
       "      <th>313658</th>\n",
       "      <td>NaN</td>\n",
       "      <td>1</td>\n",
       "    </tr>\n",
       "    <tr>\n",
       "      <th>65158</th>\n",
       "      <td>312       WEST 25 STREET</td>\n",
       "      <td>0</td>\n",
       "    </tr>\n",
       "    <tr>\n",
       "      <th>1401755</th>\n",
       "      <td>NaN</td>\n",
       "      <td>1</td>\n",
       "    </tr>\n",
       "  </tbody>\n",
       "</table>\n",
       "</div>"
      ],
      "text/plain": [
       "                                  OFF STREET NAME  OFF STREET NAME IS NULL\n",
       "1019     1767      FULTON AVENUE                                         0\n",
       "425680   732       LONGFELLOW AVENUE                                     0\n",
       "313658                                        NaN                        1\n",
       "65158    312       WEST 25 STREET                                        0\n",
       "1401755                                       NaN                        1"
      ]
     },
     "execution_count": 33,
     "metadata": {},
     "output_type": "execute_result"
    }
   ],
   "source": [
    "df['OFF STREET NAME IS NULL'] = df['OFF STREET NAME'].isnull().astype('int')\n",
    "df[['OFF STREET NAME', 'OFF STREET NAME IS NULL']].sample(5)"
   ]
  },
  {
   "cell_type": "code",
   "execution_count": 34,
   "metadata": {},
   "outputs": [
    {
     "data": {
      "text/plain": [
       "0"
      ]
     },
     "execution_count": 34,
     "metadata": {},
     "output_type": "execute_result"
    }
   ],
   "source": [
    "df['OFF STREET NAME'] = df['OFF STREET NAME'].fillna('')\n",
    "df['OFF STREET NAME'].isnull().sum()"
   ]
  },
  {
   "cell_type": "code",
   "execution_count": 35,
   "metadata": {},
   "outputs": [],
   "source": [
    "tfidf = TfidfVectorizer(min_df=50, max_df=.5)\n",
    "tfidfjs_df = pd.DataFrame.sparse.from_spmatrix(tfidf.fit_transform(df['OFF STREET NAME']))\n",
    "tfidf_pre = tfidf_df.add_prefix('OFF')\n",
    "pre_X = pre_X.join(tfidf_pre).join(df['OFF STREET NAME IS NULL'])"
   ]
  },
  {
   "cell_type": "code",
   "execution_count": 44,
   "metadata": {},
   "outputs": [
    {
     "ename": "ValueError",
     "evalue": "unrecognized csr_matrix constructor usage",
     "output_type": "error",
     "traceback": [
      "\u001b[0;31m---------------------------------------------------------------------------\u001b[0m",
      "\u001b[0;31mMemoryError\u001b[0m                               Traceback (most recent call last)",
      "\u001b[0;32m~/anaconda3/lib/python3.8/site-packages/scipy/sparse/compressed.py\u001b[0m in \u001b[0;36m__init__\u001b[0;34m(self, arg1, shape, dtype, copy)\u001b[0m\n\u001b[1;32m     79\u001b[0m             \u001b[0;32mtry\u001b[0m\u001b[0;34m:\u001b[0m\u001b[0;34m\u001b[0m\u001b[0;34m\u001b[0m\u001b[0m\n\u001b[0;32m---> 80\u001b[0;31m                 \u001b[0marg1\u001b[0m \u001b[0;34m=\u001b[0m \u001b[0mnp\u001b[0m\u001b[0;34m.\u001b[0m\u001b[0masarray\u001b[0m\u001b[0;34m(\u001b[0m\u001b[0marg1\u001b[0m\u001b[0;34m)\u001b[0m\u001b[0;34m\u001b[0m\u001b[0;34m\u001b[0m\u001b[0m\n\u001b[0m\u001b[1;32m     81\u001b[0m             \u001b[0;32mexcept\u001b[0m \u001b[0mException\u001b[0m\u001b[0;34m:\u001b[0m\u001b[0;34m\u001b[0m\u001b[0;34m\u001b[0m\u001b[0m\n",
      "\u001b[0;32m~/anaconda3/lib/python3.8/site-packages/numpy/core/_asarray.py\u001b[0m in \u001b[0;36masarray\u001b[0;34m(a, dtype, order)\u001b[0m\n\u001b[1;32m     82\u001b[0m     \"\"\"\n\u001b[0;32m---> 83\u001b[0;31m     \u001b[0;32mreturn\u001b[0m \u001b[0marray\u001b[0m\u001b[0;34m(\u001b[0m\u001b[0ma\u001b[0m\u001b[0;34m,\u001b[0m \u001b[0mdtype\u001b[0m\u001b[0;34m,\u001b[0m \u001b[0mcopy\u001b[0m\u001b[0;34m=\u001b[0m\u001b[0;32mFalse\u001b[0m\u001b[0;34m,\u001b[0m \u001b[0morder\u001b[0m\u001b[0;34m=\u001b[0m\u001b[0morder\u001b[0m\u001b[0;34m)\u001b[0m\u001b[0;34m\u001b[0m\u001b[0;34m\u001b[0m\u001b[0m\n\u001b[0m\u001b[1;32m     84\u001b[0m \u001b[0;34m\u001b[0m\u001b[0m\n",
      "\u001b[0;32m~/anaconda3/lib/python3.8/site-packages/pandas/core/generic.py\u001b[0m in \u001b[0;36m__array__\u001b[0;34m(self, dtype)\u001b[0m\n\u001b[1;32m   1780\u001b[0m     \u001b[0;32mdef\u001b[0m \u001b[0m__array__\u001b[0m\u001b[0;34m(\u001b[0m\u001b[0mself\u001b[0m\u001b[0;34m,\u001b[0m \u001b[0mdtype\u001b[0m\u001b[0;34m=\u001b[0m\u001b[0;32mNone\u001b[0m\u001b[0;34m)\u001b[0m \u001b[0;34m->\u001b[0m \u001b[0mnp\u001b[0m\u001b[0;34m.\u001b[0m\u001b[0mndarray\u001b[0m\u001b[0;34m:\u001b[0m\u001b[0;34m\u001b[0m\u001b[0;34m\u001b[0m\u001b[0m\n\u001b[0;32m-> 1781\u001b[0;31m         \u001b[0;32mreturn\u001b[0m \u001b[0mnp\u001b[0m\u001b[0;34m.\u001b[0m\u001b[0masarray\u001b[0m\u001b[0;34m(\u001b[0m\u001b[0mself\u001b[0m\u001b[0;34m.\u001b[0m\u001b[0m_values\u001b[0m\u001b[0;34m,\u001b[0m \u001b[0mdtype\u001b[0m\u001b[0;34m=\u001b[0m\u001b[0mdtype\u001b[0m\u001b[0;34m)\u001b[0m\u001b[0;34m\u001b[0m\u001b[0;34m\u001b[0m\u001b[0m\n\u001b[0m\u001b[1;32m   1782\u001b[0m \u001b[0;34m\u001b[0m\u001b[0m\n",
      "\u001b[0;32m~/anaconda3/lib/python3.8/site-packages/pandas/core/generic.py\u001b[0m in \u001b[0;36m_values\u001b[0;34m(self)\u001b[0m\n\u001b[1;32m   5347\u001b[0m         \u001b[0;34m\"\"\"internal implementation\"\"\"\u001b[0m\u001b[0;34m\u001b[0m\u001b[0;34m\u001b[0m\u001b[0m\n\u001b[0;32m-> 5348\u001b[0;31m         \u001b[0;32mreturn\u001b[0m \u001b[0mself\u001b[0m\u001b[0;34m.\u001b[0m\u001b[0mvalues\u001b[0m\u001b[0;34m\u001b[0m\u001b[0;34m\u001b[0m\u001b[0m\n\u001b[0m\u001b[1;32m   5349\u001b[0m \u001b[0;34m\u001b[0m\u001b[0m\n",
      "\u001b[0;32m~/anaconda3/lib/python3.8/site-packages/pandas/core/generic.py\u001b[0m in \u001b[0;36mvalues\u001b[0;34m(self)\u001b[0m\n\u001b[1;32m   5342\u001b[0m         \u001b[0mself\u001b[0m\u001b[0;34m.\u001b[0m\u001b[0m_consolidate_inplace\u001b[0m\u001b[0;34m(\u001b[0m\u001b[0;34m)\u001b[0m\u001b[0;34m\u001b[0m\u001b[0;34m\u001b[0m\u001b[0m\n\u001b[0;32m-> 5343\u001b[0;31m         \u001b[0;32mreturn\u001b[0m \u001b[0mself\u001b[0m\u001b[0;34m.\u001b[0m\u001b[0m_mgr\u001b[0m\u001b[0;34m.\u001b[0m\u001b[0mas_array\u001b[0m\u001b[0;34m(\u001b[0m\u001b[0mtranspose\u001b[0m\u001b[0;34m=\u001b[0m\u001b[0mself\u001b[0m\u001b[0;34m.\u001b[0m\u001b[0m_AXIS_REVERSED\u001b[0m\u001b[0;34m)\u001b[0m\u001b[0;34m\u001b[0m\u001b[0;34m\u001b[0m\u001b[0m\n\u001b[0m\u001b[1;32m   5344\u001b[0m \u001b[0;34m\u001b[0m\u001b[0m\n",
      "\u001b[0;32m~/anaconda3/lib/python3.8/site-packages/pandas/core/internals/managers.py\u001b[0m in \u001b[0;36mas_array\u001b[0;34m(self, transpose, dtype, copy, na_value)\u001b[0m\n\u001b[1;32m    852\u001b[0m         \u001b[0;32melse\u001b[0m\u001b[0;34m:\u001b[0m\u001b[0;34m\u001b[0m\u001b[0;34m\u001b[0m\u001b[0m\n\u001b[0;32m--> 853\u001b[0;31m             \u001b[0marr\u001b[0m \u001b[0;34m=\u001b[0m \u001b[0mself\u001b[0m\u001b[0;34m.\u001b[0m\u001b[0m_interleave\u001b[0m\u001b[0;34m(\u001b[0m\u001b[0mdtype\u001b[0m\u001b[0;34m=\u001b[0m\u001b[0mdtype\u001b[0m\u001b[0;34m,\u001b[0m \u001b[0mna_value\u001b[0m\u001b[0;34m=\u001b[0m\u001b[0mna_value\u001b[0m\u001b[0;34m)\u001b[0m\u001b[0;34m\u001b[0m\u001b[0;34m\u001b[0m\u001b[0m\n\u001b[0m\u001b[1;32m    854\u001b[0m             \u001b[0;31m# The underlying data was copied within _interleave\u001b[0m\u001b[0;34m\u001b[0m\u001b[0;34m\u001b[0m\u001b[0;34m\u001b[0m\u001b[0m\n",
      "\u001b[0;32m~/anaconda3/lib/python3.8/site-packages/pandas/core/internals/managers.py\u001b[0m in \u001b[0;36m_interleave\u001b[0;34m(self, dtype, na_value)\u001b[0m\n\u001b[1;32m    881\u001b[0m \u001b[0;34m\u001b[0m\u001b[0m\n\u001b[0;32m--> 882\u001b[0;31m         \u001b[0mresult\u001b[0m \u001b[0;34m=\u001b[0m \u001b[0mnp\u001b[0m\u001b[0;34m.\u001b[0m\u001b[0mempty\u001b[0m\u001b[0;34m(\u001b[0m\u001b[0mself\u001b[0m\u001b[0;34m.\u001b[0m\u001b[0mshape\u001b[0m\u001b[0;34m,\u001b[0m \u001b[0mdtype\u001b[0m\u001b[0;34m=\u001b[0m\u001b[0mdtype\u001b[0m\u001b[0;34m)\u001b[0m\u001b[0;34m\u001b[0m\u001b[0;34m\u001b[0m\u001b[0m\n\u001b[0m\u001b[1;32m    883\u001b[0m \u001b[0;34m\u001b[0m\u001b[0m\n",
      "\u001b[0;31mMemoryError\u001b[0m: Unable to allocate 33.8 GiB for an array with shape (3053, 1486656) and data type float64",
      "\nDuring handling of the above exception, another exception occurred:\n",
      "\u001b[0;31mValueError\u001b[0m                                Traceback (most recent call last)",
      "\u001b[0;32m<ipython-input-44-1a26648dafe1>\u001b[0m in \u001b[0;36m<module>\u001b[0;34m\u001b[0m\n\u001b[0;32m----> 1\u001b[0;31m \u001b[0mX\u001b[0m \u001b[0;34m=\u001b[0m \u001b[0mscipy\u001b[0m\u001b[0;34m.\u001b[0m\u001b[0msparse\u001b[0m\u001b[0;34m.\u001b[0m\u001b[0mcsr_matrix\u001b[0m\u001b[0;34m(\u001b[0m\u001b[0mpre_X\u001b[0m\u001b[0;34m)\u001b[0m\u001b[0;34m\u001b[0m\u001b[0;34m\u001b[0m\u001b[0m\n\u001b[0m\u001b[1;32m      2\u001b[0m \u001b[0mX\u001b[0m\u001b[0;34m.\u001b[0m\u001b[0mshape\u001b[0m\u001b[0;34m\u001b[0m\u001b[0;34m\u001b[0m\u001b[0m\n",
      "\u001b[0;32m~/anaconda3/lib/python3.8/site-packages/scipy/sparse/compressed.py\u001b[0m in \u001b[0;36m__init__\u001b[0;34m(self, arg1, shape, dtype, copy)\u001b[0m\n\u001b[1;32m     80\u001b[0m                 \u001b[0marg1\u001b[0m \u001b[0;34m=\u001b[0m \u001b[0mnp\u001b[0m\u001b[0;34m.\u001b[0m\u001b[0masarray\u001b[0m\u001b[0;34m(\u001b[0m\u001b[0marg1\u001b[0m\u001b[0;34m)\u001b[0m\u001b[0;34m\u001b[0m\u001b[0;34m\u001b[0m\u001b[0m\n\u001b[1;32m     81\u001b[0m             \u001b[0;32mexcept\u001b[0m \u001b[0mException\u001b[0m\u001b[0;34m:\u001b[0m\u001b[0;34m\u001b[0m\u001b[0;34m\u001b[0m\u001b[0m\n\u001b[0;32m---> 82\u001b[0;31m                 raise ValueError(\"unrecognized {}_matrix constructor usage\"\n\u001b[0m\u001b[1;32m     83\u001b[0m                                  \"\".format(self.format))\n\u001b[1;32m     84\u001b[0m             \u001b[0;32mfrom\u001b[0m \u001b[0;34m.\u001b[0m\u001b[0mcoo\u001b[0m \u001b[0;32mimport\u001b[0m \u001b[0mcoo_matrix\u001b[0m\u001b[0;34m\u001b[0m\u001b[0;34m\u001b[0m\u001b[0m\n",
      "\u001b[0;31mValueError\u001b[0m: unrecognized csr_matrix constructor usage"
     ]
    }
   ],
   "source": [
    "X = scipy.sparse.csr_matrix(pre_X)\n",
    "X.shape"
   ]
  },
  {
   "cell_type": "code",
   "execution_count": null,
   "metadata": {},
   "outputs": [],
   "source": [
    "X_train, X_test, y_train, y_test = train_test_split(X, y, test_size=0.3, random_state=42)\n",
    "X_train.shape"
   ]
  },
  {
   "cell_type": "code",
   "execution_count": null,
   "metadata": {},
   "outputs": [],
   "source": [
    "log_reg = LogisticRegression(**log_params)\n",
    "log_reg.fit(X_train, y_train)\n",
    "y_pred = log_reg.predict(X_test)\n",
    "log_f1 = f1_score(y_test, y_pred)\n",
    "\n",
    "rf_clf = RandomForestClassifier(**rf_params)\n",
    "rf_clf.fit(X_train, y_train)\n",
    "y_pred = rf_clf.predict(X_test)\n",
    "rf_f1 = f1_score(y_test, y_pred)\n",
    "\n",
    "print(f'Logistic Regression F1: {log_f1}\\nRandom Forest F1: {rf_f1}')"
   ]
  },
  {
   "cell_type": "markdown",
   "metadata": {},
   "source": [
    "### Model 7: Add contributing factors"
   ]
  },
  {
   "cell_type": "code",
   "execution_count": null,
   "metadata": {},
   "outputs": [],
   "source": [
    "df['CONTRIBUTING FACTOR VEHICLE 1'].unique()"
   ]
  },
  {
   "cell_type": "code",
   "execution_count": null,
   "metadata": {},
   "outputs": [],
   "source": [
    "len(df[df['CONTRIBUTING FACTOR VEHICLE 1'] == 'Unspecified'])"
   ]
  },
  {
   "cell_type": "code",
   "execution_count": null,
   "metadata": {},
   "outputs": [],
   "source": [
    "df['CONTRIBUTING FACTOR VEHICLE 1'].isnull().sum()"
   ]
  },
  {
   "cell_type": "code",
   "execution_count": null,
   "metadata": {},
   "outputs": [],
   "source": [
    "df['CONTRIBUTING FACTOR VEHICLE 1'] = df['CONTRIBUTING FACTOR VEHICLE 1'].fillna('Unspecified')\n",
    "df['CONTRIBUTING FACTOR VEHICLE 1'].isnull().sum()"
   ]
  },
  {
   "cell_type": "code",
   "execution_count": null,
   "metadata": {},
   "outputs": [],
   "source": [
    "factor_dummies = pd.get_dummies(df['CONTRIBUTING FACTOR VEHICLE 1'], sparse=True)\n",
    "\n",
    "pre_X = pre_X.join(factor_dummies)\n",
    "X = scipy.sparse.csr_matrix(pre_X)"
   ]
  },
  {
   "cell_type": "code",
   "execution_count": null,
   "metadata": {},
   "outputs": [],
   "source": [
    "X_train, X_test, y_train, y_test = train_test_split(X, y, test_size=0.3, random_state=42)\n",
    "\n",
    "log_reg = LogisticRegression(log_params)\n",
    "log_reg.fit(X_train, y_train)\n",
    "y_pred = log_reg.predict(X_test)\n",
    "log_f1 = f1_score(y_test, y_pred)\n",
    "\n",
    "rf_clf = RandomForestClassifier(**rf_params)\n",
    "rf_clf.fit(X_train, y_train)\n",
    "y_pred = rf_clf.predict(X_test)\n",
    "rf_f1 = f1_score(y_test, y_pred)\n",
    "\n",
    "print(f'Logistic Regression F1: {log_f1}\\nRandom Forest F1: {rf_f1}')"
   ]
  },
  {
   "cell_type": "markdown",
   "metadata": {},
   "source": [
    "### Model 8: Add vehicle type code"
   ]
  },
  {
   "cell_type": "code",
   "execution_count": null,
   "metadata": {
    "scrolled": false
   },
   "outputs": [],
   "source": [
    "vehicle_types = df['VEHICLE TYPE CODE 1'].str.lower().value_counts().sort_values(ascending=False)\n",
    "vehicle_types[vehicle_types >= 100]"
   ]
  },
  {
   "cell_type": "code",
   "execution_count": null,
   "metadata": {},
   "outputs": [],
   "source": [
    "df['VEHICLE TYPE CODE 1'].isnull().sum()"
   ]
  },
  {
   "cell_type": "code",
   "execution_count": null,
   "metadata": {},
   "outputs": [],
   "source": [
    "df['VEHICLE TYPE CODE 1'] = df['VEHICLE TYPE CODE 1'].fillna('unknown')\n",
    "df['VEHICLE TYPE CODE 1'].isnull().sum()"
   ]
  },
  {
   "cell_type": "code",
   "execution_count": null,
   "metadata": {},
   "outputs": [],
   "source": [
    "df.loc[df['VEHICLE TYPE CODE 1'].str.lower().str.contains('sedan'), 'VEHICLE TYPE CODE 1'].value_counts()"
   ]
  },
  {
   "cell_type": "code",
   "execution_count": null,
   "metadata": {},
   "outputs": [],
   "source": [
    "df.loc[df['VEHICLE TYPE CODE 1'].str.lower().str.contains('sedan'), 'VEHICLE TYPE CODE 1'] = 'sedan'\n",
    "df.loc[df['VEHICLE TYPE CODE 1'].str.lower().str.contains('sedan'), 'VEHICLE TYPE CODE 1'].value_counts()"
   ]
  },
  {
   "cell_type": "code",
   "execution_count": null,
   "metadata": {},
   "outputs": [],
   "source": [
    "df.loc[df['VEHICLE TYPE CODE 1'].str.lower().str.contains('sport utility'), 'VEHICLE TYPE CODE 1'].value_counts()"
   ]
  },
  {
   "cell_type": "code",
   "execution_count": null,
   "metadata": {},
   "outputs": [],
   "source": [
    "df.loc[df['VEHICLE TYPE CODE 1'].str.lower().str.contains('sport utility'), 'VEHICLE TYPE CODE 1'] = 'suv'\n",
    "df.loc[df['VEHICLE TYPE CODE 1'].str.lower().str.contains('sport utility'), 'VEHICLE TYPE CODE 1'].value_counts()"
   ]
  },
  {
   "cell_type": "code",
   "execution_count": null,
   "metadata": {},
   "outputs": [],
   "source": []
  },
  {
   "cell_type": "markdown",
   "metadata": {},
   "source": [
    "## Other stuff"
   ]
  },
  {
   "cell_type": "code",
   "execution_count": null,
   "metadata": {
    "scrolled": true
   },
   "outputs": [],
   "source": [
    "confusion_matrix(y_test, y_pred)"
   ]
  },
  {
   "cell_type": "code",
   "execution_count": null,
   "metadata": {},
   "outputs": [],
   "source": [
    "tn, fp, fn, tp  = confusion_matrix(y_test, y_pred).ravel()\n",
    "print(f'FP: {fp}\\nFN: {fn}')"
   ]
  },
  {
   "cell_type": "code",
   "execution_count": null,
   "metadata": {},
   "outputs": [],
   "source": [
    "def fp_rate(y_test, y_pred):\n",
    "    tn, fp, fn, tp  = confusion_matrix(y_test, y_pred).ravel()\n",
    "    return fp / (fp + tn)\n",
    "    \n",
    "def fn_rate(y_test, y_pred):\n",
    "    tn, fp, fn, tp  = confusion_matrix(y_test, y_pred).ravel()\n",
    "    return fn / (tp + fn)"
   ]
  },
  {
   "cell_type": "code",
   "execution_count": null,
   "metadata": {},
   "outputs": [],
   "source": [
    "fp_rate(y_test, y_pred)"
   ]
  },
  {
   "cell_type": "code",
   "execution_count": null,
   "metadata": {},
   "outputs": [],
   "source": [
    "fn_rate(y_test, y_pred)"
   ]
  },
  {
   "cell_type": "markdown",
   "metadata": {},
   "source": [
    "How many false positives/false negatives for the year?"
   ]
  },
  {
   "cell_type": "markdown",
   "metadata": {},
   "source": [
    "False positive/false negative rate\n",
    "How many locations/people will be misidentified? What is the false positive rate?\n",
    "How many will you fail to identify?"
   ]
  },
  {
   "cell_type": "code",
   "execution_count": null,
   "metadata": {},
   "outputs": [],
   "source": [
    "f1_list = []\n",
    "for i in range(2,101):\n",
    "    kmeans = KMeans(n_clusters=i, random_state=42)\n",
    "    kmeans.fit(df[['LATITUDE','LONGITUDE']].values)\n",
    "    df_clusters = pd.Series(kmeans.labels_)\n",
    "    cluster_dummies = pd.get_dummies(df_clusters)\n",
    "    X = scipy.sparse.csr_matrix(cluster_dummies)\n",
    "    y = df['CASUALTIES?']\n",
    "    X_train, X_test, y_train, y_test = train_test_split(X, y, test_size=0.3, random_state=42)\n",
    "    log_reg = LogisticRegression(class_weight='balanced', max_iter=10_000)\n",
    "    log_reg.fit(X_train, y_train)\n",
    "    y_pred = log_reg.predict(X_test)\n",
    "    log_f1 = f1_score(y_test, y_pred)\n",
    "    print(f'# Clusters: {i}\\n    F1 score: {log_f1}')\n",
    "    f1_list.append(log_f1)"
   ]
  },
  {
   "cell_type": "code",
   "execution_count": null,
   "metadata": {},
   "outputs": [],
   "source": [
    "max(f1_list)"
   ]
  },
  {
   "cell_type": "code",
   "execution_count": null,
   "metadata": {},
   "outputs": [],
   "source": [
    "_ = plt.figure(figsize=(10,10))\n",
    "_ = plt.plot(range(2,101), f1_list, 'k-')\n",
    "_ = plt.grid()\n",
    "_ = plt.xlabel('# Clusters', fontsize=14)\n",
    "_ = plt.ylabel('F1 Score', fontsize=14)\n",
    "_ = plt.title('F1 Cluster Analysis\\n', fontsize=22)\n",
    "plt.savefig('F1 Cluster Analysis')"
   ]
  }
 ],
 "metadata": {
  "kernelspec": {
   "display_name": "Python 3",
   "language": "python",
   "name": "python3"
  },
  "language_info": {
   "codemirror_mode": {
    "name": "ipython",
    "version": 3
   },
   "file_extension": ".py",
   "mimetype": "text/x-python",
   "name": "python",
   "nbconvert_exporter": "python",
   "pygments_lexer": "ipython3",
   "version": "3.8.3"
  }
 },
 "nbformat": 4,
 "nbformat_minor": 4
}

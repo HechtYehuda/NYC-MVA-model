{
 "cells": [
  {
   "cell_type": "code",
   "execution_count": 18,
   "metadata": {},
   "outputs": [],
   "source": [
    "import pandas as pd\n",
    "import numpy as np\n",
    "import pickle"
   ]
  },
  {
   "cell_type": "code",
   "execution_count": 9,
   "metadata": {},
   "outputs": [
    {
     "name": "stdout",
     "output_type": "stream",
     "text": [
      "<class 'pandas.core.frame.DataFrame'>\n",
      "RangeIndex: 50 entries, 0 to 49\n",
      "Data columns (total 31 columns):\n",
      " #   Column                       Non-Null Count  Dtype  \n",
      "---  ------                       --------------  -----  \n",
      " 0   split0_test_score            50 non-null     float64\n",
      " 1   split1_test_score            50 non-null     float64\n",
      " 2   split2_test_score            50 non-null     float64\n",
      " 3   split3_test_score            50 non-null     float64\n",
      " 4   split4_test_score            50 non-null     float64\n",
      " 5   mean_test_score              50 non-null     float64\n",
      " 6   std_test_score               50 non-null     float64\n",
      " 7   rank_test_score              50 non-null     int64  \n",
      " 8   split0_train_score           50 non-null     float64\n",
      " 9   split1_train_score           50 non-null     float64\n",
      " 10  split2_train_score           50 non-null     float64\n",
      " 11  split3_train_score           50 non-null     float64\n",
      " 12  split4_train_score           50 non-null     float64\n",
      " 13  mean_train_score             50 non-null     float64\n",
      " 14  std_train_score              50 non-null     float64\n",
      " 15  mean_fit_time                50 non-null     float64\n",
      " 16  std_fit_time                 50 non-null     float64\n",
      " 17  mean_score_time              50 non-null     float64\n",
      " 18  std_score_time               50 non-null     float64\n",
      " 19  param_class_weight           50 non-null     object \n",
      " 20  param_criterion              50 non-null     object \n",
      " 21  param_max_depth              50 non-null     int64  \n",
      " 22  param_max_features           50 non-null     int64  \n",
      " 23  param_min_impurity_decrease  50 non-null     float64\n",
      " 24  param_min_samples_leaf       50 non-null     int64  \n",
      " 25  param_n_estimators           50 non-null     int64  \n",
      " 26  param_n_jobs                 50 non-null     int64  \n",
      " 27  param_random_state           50 non-null     int64  \n",
      " 28  param_verbose                50 non-null     int64  \n",
      " 29  params                       50 non-null     object \n",
      " 30  rank_train_score             50 non-null     int64  \n",
      "dtypes: float64(19), int64(9), object(3)\n",
      "memory usage: 12.2+ KB\n"
     ]
    }
   ],
   "source": [
    "cv_path = r'../Model prework/cv_results.pickle'\n",
    "with open(cv_path, 'rb') as file:\n",
    "    cv_results = pickle.load(file)\n",
    "cv_results.info()"
   ]
  },
  {
   "cell_type": "code",
   "execution_count": 16,
   "metadata": {},
   "outputs": [
    {
     "data": {
      "text/plain": [
       "'|    |   rank_test_score |   mean_train_score |   mean_test_score | param_criterion   |   param_max_depth |   param_max_features |   param_min_impurity_decrease |   param_min_samples_leaf |   param_n_estimators |\\n|---:|------------------:|-------------------:|------------------:|:------------------|------------------:|---------------------:|------------------------------:|-------------------------:|---------------------:|\\n| 15 |                 1 |           0.168007 |          0.167353 | entropy           |                48 |                    1 |                             0 |                        3 |                   27 |\\n| 17 |                 2 |           0.168014 |          0.167288 | gini              |                47 |                    9 |                             0 |                        3 |                   30 |\\n| 28 |                 3 |           0.167972 |          0.167255 | entropy           |                44 |                    8 |                             0 |                        1 |                   51 |\\n| 48 |                 4 |           0.167629 |          0.167241 | entropy           |                41 |                    1 |                             0 |                        1 |                   81 |\\n| 42 |                 5 |           0.167713 |          0.167197 | entropy           |                43 |                    1 |                             0 |                        1 |                   80 |\\n| 12 |                 6 |           0.16784  |          0.167189 | entropy           |                47 |                    7 |                             0 |                        3 |                   52 |\\n| 45 |                 7 |           0.167739 |          0.16715  | entropy           |                45 |                    1 |                             0 |                        1 |                   57 |\\n| 21 |                 8 |           0.167951 |          0.167128 | gini              |                49 |                    1 |                             0 |                        8 |                   22 |\\n| 23 |                 9 |           0.167669 |          0.167108 | gini              |                48 |                    1 |                             0 |                        4 |                   74 |\\n| 14 |                10 |           0.167829 |          0.167105 | gini              |                40 |                    7 |                             0 |                        2 |                   52 |'"
      ]
     },
     "execution_count": 16,
     "metadata": {},
     "output_type": "execute_result"
    }
   ],
   "source": [
    "cv_results[['rank_test_score',\n",
    "            'mean_train_score',\n",
    "            'mean_test_score',\n",
    "            'param_criterion',\n",
    "            'param_max_depth',\n",
    "            'param_max_features',\n",
    "            'param_min_impurity_decrease',\n",
    "            'param_min_samples_leaf',\n",
    "            'param_n_estimators'\n",
    "           ]].sort_values('rank_test_score', ascending=True)[:10].to_markdown()"
   ]
  },
  {
   "cell_type": "code",
   "execution_count": 25,
   "metadata": {},
   "outputs": [
    {
     "data": {
      "text/plain": [
       "{'criterion': ['gini', 'entropy'],\n",
       " 'max_depth': array([ 0.,  1.,  2.,  3.,  4.,  5.,  6.,  7.,  8.,  9., 10., 11., 12.,\n",
       "        13., 14., 15., 16., 17., 18., 19., 20., 21., 22., 23., 24., 25.,\n",
       "        26., 27., 28., 29., 30., 31., 32., 33., 34., 35., 36., 37., 38.,\n",
       "        39., 40., 41., 42., 43., 44., 45., 46., 47., 48., 49., 50.]),\n",
       " 'min_samples_leaf': array([ 1.,  2.,  3.,  4.,  5.,  6.,  7.,  8.,  9., 10.]),\n",
       " 'n_estimators': array([  1.,   2.,   3.,   4.,   5.,   6.,   7.,   8.,   9.,  10.,  11.,\n",
       "         12.,  13.,  14.,  15.,  16.,  17.,  18.,  19.,  20.,  21.,  22.,\n",
       "         23.,  24.,  25.,  26.,  27.,  28.,  29.,  30.,  31.,  32.,  33.,\n",
       "         34.,  35.,  36.,  37.,  38.,  39.,  40.,  41.,  42.,  43.,  44.,\n",
       "         45.,  46.,  47.,  48.,  49.,  50.,  51.,  52.,  53.,  54.,  55.,\n",
       "         56.,  57.,  58.,  59.,  60.,  61.,  62.,  63.,  64.,  65.,  66.,\n",
       "         67.,  68.,  69.,  70.,  71.,  72.,  73.,  74.,  75.,  76.,  77.,\n",
       "         78.,  79.,  80.,  81.,  82.,  83.,  84.,  85.,  86.,  87.,  88.,\n",
       "         89.,  90.,  91.,  92.,  93.,  94.,  95.,  96.,  97.,  98.,  99.,\n",
       "        100.]),\n",
       " 'class_weight': ['balanced'],\n",
       " 'max_features': [None, 1, 2, 3, 4, 5, 6, 7, 8, 9, 10],\n",
       " 'min_impurity_decrease': array([0.  , 0.05, 0.1 , 0.15, 0.2 , 0.25]),\n",
       " 'random_state': [42],\n",
       " 'n_jobs': [-1],\n",
       " 'verbose': [2]}"
      ]
     },
     "execution_count": 25,
     "metadata": {},
     "output_type": "execute_result"
    }
   ],
   "source": [
    "{\n",
    "    'criterion':['gini','entropy'],\n",
    "    'max_depth':np.linspace(0,50,51),\n",
    "    'min_samples_leaf':np.linspace(1,10,10),\n",
    "    'n_estimators':np.linspace(1,100,100),\n",
    "    'class_weight': ['balanced'],\n",
    "    'max_features':[None,1,2,3,4,5,6,7,8,9,10],\n",
    "    'min_impurity_decrease':np.linspace(0,0.25,6),\n",
    "    'random_state': [42],\n",
    "    'n_jobs':[-1],\n",
    "    'verbose':[2]\n",
    "}\n"
   ]
  },
  {
   "cell_type": "markdown",
   "metadata": {},
   "source": [
    "| Hyperparameter | Levels |\n",
    "| :--- | :---: |\n",
    "| Criterion | Gini, entropy |\n",
    "| Max depth | Integers 0-50 |\n",
    "| Min samples leaf | Integers 1-10 |\n",
    "| N estimators | Integers 1-100 |\n",
    "| Max features | \"None\" and integers 1-10 |\n",
    "| Min impurity decrease | 0, 0.05, 0.1, 0.15, 0.2, 0.25 |"
   ]
  }
 ],
 "metadata": {
  "kernelspec": {
   "display_name": "Python 3",
   "language": "python",
   "name": "python3"
  },
  "language_info": {
   "codemirror_mode": {
    "name": "ipython",
    "version": 3
   },
   "file_extension": ".py",
   "mimetype": "text/x-python",
   "name": "python",
   "nbconvert_exporter": "python",
   "pygments_lexer": "ipython3",
   "version": "3.8.3"
  }
 },
 "nbformat": 4,
 "nbformat_minor": 4
}
